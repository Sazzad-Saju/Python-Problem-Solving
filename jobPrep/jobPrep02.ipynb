{
 "cells": [
  {
   "cell_type": "code",
   "execution_count": null,
   "id": "7d96265e",
   "metadata": {},
   "outputs": [],
   "source": [
    "# Additional Resources\n",
    "# what-ever"
   ]
  },
  {
   "cell_type": "code",
   "execution_count": null,
   "id": "a2af5343",
   "metadata": {},
   "outputs": [],
   "source": [
    "# prog01: \n",
    "# function check matched number of braces\n",
    "# {()} have equal number of braces, so it returns True\n",
    "# [{)}] have not equal number of braces, so it returns False\n",
    "# but also ([)] also returns True. equal number of braces. "
   ]
  },
  {
   "cell_type": "code",
   "execution_count": null,
   "id": "89048144",
   "metadata": {},
   "outputs": [],
   "source": [
    "def matched(str):\n",
    "    count = 0\n",
    "    for i in str:\n",
    "        if i == \"(\":\n",
    "            count += 1\n",
    "        elif i == \")\":\n",
    "            count -= 1\n",
    "        elif i == \"{\":\n",
    "            count += 1\n",
    "        elif i == \"}\":\n",
    "            count -= 1\n",
    "        elif i == \"[\":\n",
    "            count += 1\n",
    "        elif i == \"]\":\n",
    "            count -= 1\n",
    "#         print(count)\n",
    "        if count < 0:\n",
    "            return False\n",
    "    return count == 0\n",
    "\n",
    "print( matched('([)]'))"
   ]
  },
  {
   "cell_type": "code",
   "execution_count": null,
   "id": "9715f0a8",
   "metadata": {},
   "outputs": [],
   "source": [
    "# prog02:\n",
    "# regular expression that check braces closing properly. \n",
    "# ([)] returns False here\n",
    "# [{()}] eturns True\n",
    "# although have prob: ()[{}] returns False"
   ]
  },
  {
   "cell_type": "code",
   "execution_count": null,
   "id": "dda058e1",
   "metadata": {},
   "outputs": [],
   "source": [
    "# https://stackoverflow.com/questions/33747372/python-regex-for-exact-matches-of-brackets\n",
    "import re\n",
    "text = '([)]'\n",
    "regex= '/\\s*([^><[\\]]+\\b)|\\[([^]]*)]|<([^>]*)>'\n",
    "\n",
    "if(re.match(regex,text)):\n",
    "    print(\"Correct\")\n",
    "else:\n",
    "    print(\"Incorrect\")"
   ]
  },
  {
   "cell_type": "code",
   "execution_count": null,
   "id": "04e80e30",
   "metadata": {},
   "outputs": [],
   "source": [
    "# prog 03\n",
    "# Python code to print all the permutations of a given string\n",
    "# No library function"
   ]
  },
  {
   "cell_type": "code",
   "execution_count": 1,
   "id": "dd76fec4",
   "metadata": {},
   "outputs": [
    {
     "name": "stdout",
     "output_type": "stream",
     "text": [
      "abcab\n",
      "abcba\n",
      "abacb\n",
      "ababc\n",
      "abbac\n",
      "abbca\n",
      "acbab\n",
      "acbba\n",
      "acabb\n",
      "acabb\n",
      "acbab\n",
      "acbba\n",
      "aacbb\n",
      "aacbb\n",
      "aabcb\n",
      "aabbc\n",
      "aabbc\n",
      "aabcb\n",
      "abcab\n",
      "abcba\n",
      "abacb\n",
      "ababc\n",
      "abbac\n",
      "abbca\n",
      "bacab\n",
      "bacba\n",
      "baacb\n",
      "baabc\n",
      "babac\n",
      "babca\n",
      "bcaab\n",
      "bcaba\n",
      "bcaab\n",
      "bcaba\n",
      "bcbaa\n",
      "bcbaa\n",
      "bacab\n",
      "bacba\n",
      "baacb\n",
      "baabc\n",
      "babac\n",
      "babca\n",
      "bbcaa\n",
      "bbcaa\n",
      "bbaca\n",
      "bbaac\n",
      "bbaac\n",
      "bbaca\n",
      "cbaab\n",
      "cbaba\n",
      "cbaab\n",
      "cbaba\n",
      "cbbaa\n",
      "cbbaa\n",
      "cabab\n",
      "cabba\n",
      "caabb\n",
      "caabb\n",
      "cabab\n",
      "cabba\n",
      "caabb\n",
      "caabb\n",
      "cabab\n",
      "cabba\n",
      "cabba\n",
      "cabab\n",
      "cbaab\n",
      "cbaba\n",
      "cbaab\n",
      "cbaba\n",
      "cbbaa\n",
      "cbbaa\n",
      "abcab\n",
      "abcba\n",
      "abacb\n",
      "ababc\n",
      "abbac\n",
      "abbca\n",
      "acbab\n",
      "acbba\n",
      "acabb\n",
      "acabb\n",
      "acbab\n",
      "acbba\n",
      "aacbb\n",
      "aacbb\n",
      "aabcb\n",
      "aabbc\n",
      "aabbc\n",
      "aabcb\n",
      "abcab\n",
      "abcba\n",
      "abacb\n",
      "ababc\n",
      "abbac\n",
      "abbca\n",
      "bbcaa\n",
      "bbcaa\n",
      "bbaca\n",
      "bbaac\n",
      "bbaac\n",
      "bbaca\n",
      "bcbaa\n",
      "bcbaa\n",
      "bcaba\n",
      "bcaab\n",
      "bcaab\n",
      "bcaba\n",
      "bacba\n",
      "bacab\n",
      "babca\n",
      "babac\n",
      "baabc\n",
      "baacb\n",
      "bacab\n",
      "bacba\n",
      "baacb\n",
      "baabc\n",
      "babac\n",
      "babca\n"
     ]
    }
   ],
   "source": [
    "# Python program to print all permutations of a string with recursion\n",
    "# duplicates allowed\n",
    "\n",
    "def toString(List):\n",
    "\treturn ''.join(List)\n",
    "\n",
    "# Function to print permutations of string\n",
    "# This function takes three parameters:\n",
    "# 1. String\n",
    "# 2. Starting index of the string\n",
    "# 3. Ending index of the string.\n",
    "def permute(a, l, r):\n",
    "\tif l==r:\n",
    "\t\tprint(toString(a))\n",
    "        \n",
    "\telse:\n",
    "\t\tfor i in range(l,r+1):\n",
    "\t\t\ta[l], a[i] = a[i], a[l]\n",
    "\t\t\tpermute(a, l+1, r)\n",
    "\t\t\ta[l], a[i] = a[i], a[l] # backtrack\n",
    "\n",
    "# Driver program to test the above function\n",
    "string = \"abcab\"\n",
    "n = len(string)\n",
    "a = list(string)\n",
    "permute(a, 0, n-1)\n",
    "\n",
    "# This code is contributed by Bhavya Jain\n"
   ]
  },
  {
   "cell_type": "code",
   "execution_count": null,
   "id": "6075b038",
   "metadata": {},
   "outputs": [],
   "source": [
    "# prog 04\n",
    "# get nth fibonacci number using recursion"
   ]
  },
  {
   "cell_type": "code",
   "execution_count": 1,
   "id": "5010fe73",
   "metadata": {},
   "outputs": [
    {
     "name": "stdout",
     "output_type": "stream",
     "text": [
      "5\n"
     ]
    }
   ],
   "source": [
    "def Fibonacci( pos ):\n",
    "        #check for the terminating condition\n",
    "        if pos <= 1 :\n",
    "                #Return the value for position 1, here it is 0\n",
    "                return 0\n",
    "        if pos == 2:\n",
    "                #return the value for position 2, here it is 1\n",
    "                return 1\n",
    " \n",
    "        #perform some operation with the arguments\n",
    "        #Calculate the (n-1)th number by calling the function itself\n",
    "        n_1 = Fibonacci( pos-1 )\n",
    " \n",
    "        #calculation  the (n-2)th number by calling the function itself again\n",
    "        n_2 = Fibonacci( pos-2 )\n",
    " \n",
    "        #calculate the fibo number\n",
    "        n = n_1 + n_2\n",
    " \n",
    "        #return the fibo number\n",
    "        return n\n",
    " \n",
    "#Here we asking the function to calculate 5th Fibonacci\n",
    "nth_fibo = Fibonacci( 6 ) \n",
    " \n",
    "print (nth_fibo)"
   ]
  },
  {
   "cell_type": "code",
   "execution_count": null,
   "id": "8ee08324",
   "metadata": {},
   "outputs": [],
   "source": [
    "# prog 05\n",
    "# Encapsulation: Class-Object"
   ]
  },
  {
   "cell_type": "code",
   "execution_count": null,
   "id": "ddb03076",
   "metadata": {},
   "outputs": [],
   "source": [
    "\n",
    "class Student:\n",
    "    def __init__(self,first_name, last_name,age,dept, sid):\n",
    "        self.first_name = first_name\n",
    "        self.last_name = last_name\n",
    "        self.age = age\n",
    "        self.dept = dept\n",
    "        self.sid = sid\n",
    "        \n",
    "    def profile(self):\n",
    "        print(\"Name: {0} {1} \\nAge: {2}\".format(self.first_name, self.last_name, self.age))\n",
    "        print(\"Dept: \", self.dept)\n",
    "        print(\"ID: \", self.sid)\n",
    "\n",
    "stnt1 = Student(\"Sazzad\",\"Saju\",27, \"CSE\", 1602049)\n",
    "stnt1.profile()"
   ]
  },
  {
   "cell_type": "code",
   "execution_count": null,
   "id": "e4467ab4",
   "metadata": {},
   "outputs": [],
   "source": [
    "# prog 06\n",
    "# Inheritance"
   ]
  },
  {
   "cell_type": "code",
   "execution_count": null,
   "id": "e50e12df",
   "metadata": {},
   "outputs": [],
   "source": [
    "class Person:\n",
    "    def __init__(self, first_name, last_name, age):\n",
    "        self.first_name = first_name\n",
    "        self.last_name = last_name\n",
    "        self.age = age\n",
    "    def about(self):\n",
    "        print(\"Name: {0} {1} \\nAge: {2}\".format(self.first_name, self.last_name, self.age))\n",
    "\n",
    "class Student(Person):\n",
    "    def __init__(self,first_name, last_name, age, dept, sid):\n",
    "        super().__init__(first_name, last_name, age)\n",
    "        self.dept = dept\n",
    "        self.sid = sid\n",
    "        \n",
    "    def profile(self):\n",
    "        super().about()\n",
    "        print(\"Dept: \", self.dept)\n",
    "        print(\"ID: \", self.sid)\n",
    "\n",
    "print(\"Person1: \")\n",
    "p1 = Person(\"Shanta\", \"Jannat\", 26)\n",
    "p1.about()\n",
    "print(\"\\nStudent1: \")\n",
    "stnt1 = Student(\"Sazzad\", \"Saju\", 27, \"CSE\", 1602049)\n",
    "stnt1.profile()"
   ]
  },
  {
   "cell_type": "code",
   "execution_count": null,
   "id": "9833836b",
   "metadata": {},
   "outputs": [],
   "source": [
    "# prog 07\n",
    "#  polymorphism"
   ]
  },
  {
   "cell_type": "code",
   "execution_count": null,
   "id": "5225f775",
   "metadata": {},
   "outputs": [],
   "source": [
    "class Parrot:\n",
    "    def canFly(self):\n",
    "        print(\"Parrot can fly\")\n",
    "    def canSwim(self):\n",
    "        print(\"Parrot can't swim\")\n",
    "\n",
    "class Penguin:\n",
    "    def canFly(self):\n",
    "        print(\"Penguin can't fly\")\n",
    "    def canSwim(self):\n",
    "        print(\"Penguin can swim\")\n",
    "\n",
    "# COMMON INTERFACE\n",
    "def flyingTest(bird):\n",
    "    bird.canFly()\n",
    "    bird.canSwim()\n",
    "    \n",
    "bird_parrot = Parrot()\n",
    "bird_penguin = Penguin()\n",
    "\n",
    "flyingTest(bird_parrot)\n",
    "print()\n",
    "flyingTest(bird_penguin)\n"
   ]
  },
  {
   "cell_type": "code",
   "execution_count": null,
   "id": "459fc266",
   "metadata": {},
   "outputs": [],
   "source": [
    "# prog 08\n",
    "# Operator overloading"
   ]
  },
  {
   "cell_type": "code",
   "execution_count": null,
   "id": "717ea674",
   "metadata": {},
   "outputs": [],
   "source": [
    "class myPoint():\n",
    "    def __init__(self,x=0,y=0):\n",
    "        self.x = x\n",
    "        self.y = y\n",
    "    def __str__(self):\n",
    "        return \"({0},{1})\".format(self.x,self.y)\n",
    "    # overloading + operator\n",
    "    def __add__(self,other):\n",
    "        x = self.x + other.x\n",
    "        y = self.y + other.y\n",
    "        return myPoint(x,y)\n",
    "    # overloading < operator\n",
    "    def __lt__(self,other):\n",
    "        self.mag = (self.x ** 2) + (self.y **2)\n",
    "        other.mag = (other.x ** 2) + (other.y ** 2)\n",
    "        return self.mag<other.mag\n",
    "\n",
    "p1 = myPoint(4,5)\n",
    "p2 = myPoint(3,6)\n",
    "print(p1)\n",
    "print(p2)\n",
    "print()\n",
    "print(p1+p2)\n",
    "print(p1<p2)"
   ]
  },
  {
   "cell_type": "code",
   "execution_count": null,
   "id": "f5afdbce",
   "metadata": {},
   "outputs": [],
   "source": [
    "# prog 09\n",
    "# write any sorting algo\n",
    "# Quick Sort"
   ]
  },
  {
   "cell_type": "code",
   "execution_count": null,
   "id": "29e31965",
   "metadata": {},
   "outputs": [],
   "source": [
    "def partition(data,low,high):\n",
    "    pivot = data[high]\n",
    "    i = low-1\n",
    "    for j in range(low,high):\n",
    "        if data[j] <= pivot:\n",
    "            i = i+1\n",
    "            data[i],data[j] = data[j],data[i]\n",
    "    data[i+1],data[high] = data[high],data[i+1]\n",
    "    return i+1\n",
    "\n",
    "def quickSort(data,low,high):\n",
    "    if low < high:\n",
    "        pi = partition(data,low,high)\n",
    "        quickSort(data,low,pi-1)\n",
    "        quickSort(data,pi+1,high)\n",
    "\n",
    "data  = [8, 7, 2, 1, 0, 9, 6]\n",
    "print(\"Unsorted Array: \",data)\n",
    "quickSort(data,0,len(data)-1)\n",
    "print(\"Sorted Array: \", data)"
   ]
  },
  {
   "cell_type": "code",
   "execution_count": null,
   "id": "e0691b7b",
   "metadata": {},
   "outputs": [],
   "source": [
    "# prog 10\n",
    "# LinkedList"
   ]
  },
  {
   "cell_type": "code",
   "execution_count": null,
   "id": "c70a25d8",
   "metadata": {},
   "outputs": [],
   "source": [
    "class Node:\n",
    "    def __init__(self,item):\n",
    "        self.item = item\n",
    "        self.next = None\n",
    "\n",
    "class LinkedList:\n",
    "    def __init__(self):\n",
    "        self.head = None\n",
    "\n",
    "myList = LinkedList()\n",
    "# assign item values\n",
    "myList.head = Node(1)\n",
    "second = Node(2)\n",
    "third = Node(3)\n",
    "# connecting nodes\n",
    "myList.head.next = second\n",
    "second.next = third\n",
    "# traverse\n",
    "while(myList.head != None):\n",
    "    print(myList.head.item,end=\" \")\n",
    "    myList.head = myList.head.next"
   ]
  },
  {
   "cell_type": "code",
   "execution_count": null,
   "id": "31352c90",
   "metadata": {},
   "outputs": [],
   "source": [
    "# prog 11\n",
    "# Stack"
   ]
  },
  {
   "cell_type": "code",
   "execution_count": null,
   "id": "952b9077",
   "metadata": {},
   "outputs": [],
   "source": [
    "class Stack:\n",
    "    def __init__(self):\n",
    "        self.stack = []\n",
    "    def add(self,dataval):\n",
    "        if dataval not in self.stack:\n",
    "            self.stack.append(dataval)\n",
    "            return True\n",
    "        else:\n",
    "            return False\n",
    "    def peak(self):\n",
    "        return self.stack[-1]\n",
    "\n",
    "myStack = Stack()\n",
    "myStack.add(\"Sun\")\n",
    "myStack.add(\"Mon\")\n",
    "# myStack.peak() # doesn't change anything\n",
    "print(myStack.peak())\n",
    "myStack.add(\"Tue\")\n",
    "myStack.add(\"Wed\")\n",
    "print(myStack.peak())"
   ]
  },
  {
   "cell_type": "code",
   "execution_count": null,
   "id": "2b0f8990",
   "metadata": {},
   "outputs": [],
   "source": [
    "# prog 12\n",
    "# BinarySearch"
   ]
  },
  {
   "cell_type": "code",
   "execution_count": null,
   "id": "5db82de0",
   "metadata": {},
   "outputs": [],
   "source": [
    "def BinarySearch(data,low,high,search):\n",
    "    if high >= low:\n",
    "        mid = low + (high-low) // 2\n",
    "        if data[mid] == search:\n",
    "            return mid\n",
    "        elif data[mid] > search:\n",
    "            return BinarySearch(data,low,mid-1,search)\n",
    "        else:\n",
    "            return BinarySearch(data,mid+1,high,search)\n",
    "    else:\n",
    "        return -1\n",
    "    \n",
    "data = [13,17,19,23,29,31,37,41,43,47]\n",
    "search = 47\n",
    "result = BinarySearch(data,0,len(data)-1,search)\n",
    "if result != -1:\n",
    "    print(\"Item {} found at index {}\".format(search,result))\n",
    "else:\n",
    "    print(\"Item {} not found\".format(search))"
   ]
  },
  {
   "cell_type": "code",
   "execution_count": null,
   "id": "c5d0f971",
   "metadata": {},
   "outputs": [],
   "source": [
    "# prog 13\n",
    "# Greatest Common Divisor"
   ]
  },
  {
   "cell_type": "code",
   "execution_count": null,
   "id": "b6715a1c",
   "metadata": {},
   "outputs": [],
   "source": [
    "def gcd(a, b):\n",
    "    assert a >= 0 and b >= 0 and a + b > 0\n",
    "    while a > 0 and b > 0:\n",
    "        # print(\"gcd({},{}) =>\".format(a, b))   #debug\n",
    "        if a >= b:\n",
    "            a = a % b\n",
    "        else:\n",
    "            b = b % a\n",
    "    return max(a, b)\n",
    "\n",
    "print(gcd(790933790547, 1849639579327))"
   ]
  },
  {
   "cell_type": "code",
   "execution_count": null,
   "id": "10dfd7b6",
   "metadata": {},
   "outputs": [],
   "source": [
    "# prog 14\n",
    "# Fibonacci Number\n",
    "# 0 1 1 2 3 5 8 13 ..."
   ]
  },
  {
   "cell_type": "code",
   "execution_count": null,
   "id": "a730cf16",
   "metadata": {},
   "outputs": [],
   "source": [
    "def fibonacci(n):\n",
    "    x = 0\n",
    "    y = 1\n",
    "    if n <= 0:\n",
    "        raise ValueError(\"Invalid number of terms!\")\n",
    "    elif n==1:\n",
    "        print(x)\n",
    "    else:\n",
    "        print(x,y, end = ' ')\n",
    "        for i in range(0,n-2):\n",
    "            z = x+y\n",
    "            x = y\n",
    "            y = z\n",
    "            print(z,end = ' ')\n",
    "\n",
    "n = int(input(\"Terms of Series: \"))\n",
    "fibonacci(n)"
   ]
  },
  {
   "cell_type": "code",
   "execution_count": null,
   "id": "4555b7bb",
   "metadata": {},
   "outputs": [],
   "source": [
    "# prog 15\n",
    "# Palindrome"
   ]
  },
  {
   "cell_type": "code",
   "execution_count": null,
   "id": "ed2b942b",
   "metadata": {},
   "outputs": [],
   "source": [
    "def isPalindrome(myStr):\n",
    "    return myStr[::-1]\n",
    "    \n",
    "myStr = \"malayalam\"\n",
    "# myStr = \"Hajee\"\n",
    "result = isPalindrome(myStr)\n",
    "if myStr == result:\n",
    "    print(\"Palindrome\")\n",
    "else:\n",
    "    print(\"Not Palindrome\")"
   ]
  },
  {
   "cell_type": "code",
   "execution_count": null,
   "id": "3aa22172",
   "metadata": {},
   "outputs": [],
   "source": [
    "# prog 16\n",
    "# queue"
   ]
  },
  {
   "cell_type": "code",
   "execution_count": null,
   "id": "1066f836",
   "metadata": {},
   "outputs": [],
   "source": [
    "queue = []\n",
    "queue.append(1)\n",
    "queue.append(2)\n",
    "queue.append(3)\n",
    "# traverse\n",
    "for i in queue:\n",
    "    print(i)\n",
    "    \n",
    "print(queue)\n",
    "queue.pop()\n",
    "queue.pop()\n",
    "print(queue)"
   ]
  },
  {
   "cell_type": "code",
   "execution_count": null,
   "id": "68a80397",
   "metadata": {},
   "outputs": [],
   "source": [
    "# prog 17\n",
    "# series of sum: 1 + (1+2) + (1+2+3) + ..."
   ]
  },
  {
   "cell_type": "code",
   "execution_count": null,
   "id": "2eebc71d",
   "metadata": {},
   "outputs": [],
   "source": [
    "n = int(input(\"Seris of terms: \"))\n",
    "sumation = 0\n",
    "for i in range(1,n+1):\n",
    "    for j in range(1,i+1):\n",
    "        sumation += j\n",
    "    \n",
    "print(sumation)"
   ]
  },
  {
   "cell_type": "code",
   "execution_count": null,
   "id": "658782ce",
   "metadata": {},
   "outputs": [],
   "source": [
    "# prog 18\n",
    "# Check if a year is leap year or not"
   ]
  },
  {
   "cell_type": "code",
   "execution_count": null,
   "id": "861176da",
   "metadata": {},
   "outputs": [],
   "source": [
    "def isLeapYear (year):\n",
    "    if ((year % 4 == 0) and (year % 100 != 0)) or (year % 400 == 0):\n",
    "        return True\n",
    "    else:\n",
    "        return False\n",
    "\n",
    "print(isLeapYear(2008))"
   ]
  },
  {
   "cell_type": "code",
   "execution_count": null,
   "id": "04e6cdaa",
   "metadata": {},
   "outputs": [],
   "source": [
    "# prog 19\n",
    "# Check if a number is armstrong: 153 = 1^3 + 5^3 + 3^3"
   ]
  },
  {
   "cell_type": "code",
   "execution_count": null,
   "id": "891e741f",
   "metadata": {},
   "outputs": [],
   "source": [
    "import math\n",
    "numb = 153\n",
    "# numb = int(input())\n",
    "orgNumb = numb\n",
    "result = 0\n",
    "while orgNumb != 0:\n",
    "    rem = orgNumb%10\n",
    "    print(rem)\n",
    "    result += pow(rem,3)\n",
    "    orgNumb = orgNumb//10\n",
    "\n",
    "if result == numb:\n",
    "    print(numb , \" is an Armstrong number\")\n",
    "else:\n",
    "    print(numb , \" is not\")"
   ]
  },
  {
   "cell_type": "code",
   "execution_count": null,
   "id": "4061804d",
   "metadata": {},
   "outputs": [],
   "source": [
    "# prog 20\n",
    "# Solving Quadratric equation\n",
    "# ax^2 + bx + c = 0\n",
    "# x = ? Solution"
   ]
  },
  {
   "cell_type": "code",
   "execution_count": null,
   "id": "78674956",
   "metadata": {},
   "outputs": [],
   "source": [
    "import math\n",
    "numb = (input(\"Enter x,y,z: \").split())  # 1 -5 6 gives solutions: 2, 3\n",
    "a = int(numb[0])\n",
    "b = int(numb[1])\n",
    "c = int(numb[2])\n",
    "D = math.sqrt((b*b) - 4*a*c)\n",
    "x1 = (-b + D) / 2*a\n",
    "x2 = (-b -D)/ 2*a\n",
    "print(x1,x2)"
   ]
  },
  {
   "cell_type": "code",
   "execution_count": null,
   "id": "c2559635",
   "metadata": {},
   "outputs": [],
   "source": [
    "# prog 21\n",
    "# Check Prime: efficient1\n",
    "# example: 1234231123"
   ]
  },
  {
   "cell_type": "code",
   "execution_count": null,
   "id": "6a3ba56f",
   "metadata": {},
   "outputs": [],
   "source": [
    "import math\n",
    "a=int(input('number: '))\n",
    "for i in range(2,math.floor(math.sqrt(a))+1):\n",
    "    if(a%i != 0):\n",
    "        continue\n",
    "    else:\n",
    "        print(a, \" is not prime (\", str(int(a / i)), \"*\", str(i), \")\")\n",
    "        break\n",
    "else:\n",
    "    print(a, \" is a prime number!\")"
   ]
  },
  {
   "cell_type": "code",
   "execution_count": null,
   "id": "b9d897ff",
   "metadata": {},
   "outputs": [],
   "source": [
    "# prog 22\n",
    "# Amicable\n",
    "# 220 284"
   ]
  },
  {
   "cell_type": "code",
   "execution_count": null,
   "id": "3c4fa0b8",
   "metadata": {},
   "outputs": [],
   "source": [
    "x=int(input('Enter number 1: '))\n",
    "y=int(input('Enter number 2: '))\n",
    "sum1=0\n",
    "sum2=0\n",
    "for i in range(1,x):\n",
    "    if x%i==0:\n",
    "        sum1+=i\n",
    "for j in range(1,y):\n",
    "    if y%j==0:\n",
    "        sum2+=j\n",
    "if(sum1==y and sum2==x):\n",
    "    print('Amicable!')\n",
    "else:\n",
    "    print('Not Amicable!')"
   ]
  }
 ],
 "metadata": {
  "kernelspec": {
   "display_name": "Python 3",
   "language": "python",
   "name": "python3"
  },
  "language_info": {
   "codemirror_mode": {
    "name": "ipython",
    "version": 3
   },
   "file_extension": ".py",
   "mimetype": "text/x-python",
   "name": "python",
   "nbconvert_exporter": "python",
   "pygments_lexer": "ipython3",
   "version": "3.8.8"
  }
 },
 "nbformat": 4,
 "nbformat_minor": 5
}
