{
 "cells": [
  {
   "cell_type": "code",
   "execution_count": null,
   "id": "e9ca93f1",
   "metadata": {},
   "outputs": [],
   "source": [
    "# Solve of written exm Silicon Semiconductor Software Engineer "
   ]
  },
  {
   "cell_type": "code",
   "execution_count": null,
   "id": "6fd68b40",
   "metadata": {},
   "outputs": [],
   "source": [
    "# Problem 01:\n",
    "# Function that remove duplicate characters from string\n",
    "# No library function allowed"
   ]
  },
  {
   "cell_type": "code",
   "execution_count": 1,
   "id": "910f5ff5",
   "metadata": {},
   "outputs": [
    {
     "name": "stdout",
     "output_type": "stream",
     "text": [
      "abcdef\n"
     ]
    }
   ],
   "source": [
    "def removeDuplicate(myStr):\n",
    "    temp = \"\"\n",
    "    for char in myStr:\n",
    "        if char not in temp:\n",
    "            temp += char\n",
    "    return temp\n",
    "\n",
    "myStr = \"abccddeffaaab\"\n",
    "result = removeDuplicate(myStr)\n",
    "print(result)"
   ]
  },
  {
   "cell_type": "code",
   "execution_count": null,
   "id": "045fb5b5",
   "metadata": {},
   "outputs": [],
   "source": [
    "# Problem 02\n",
    "# Take a binary number\n",
    "# Find a zero such that it have equal number of 0's and 1's in both side\n",
    "# Example:\n",
    "#     1011010001 -> 4th zero have 111 in left and 000 in right. Code is beautiful\n",
    "#     10001011100 -> 5th zero have 000 in left and 111 in right. Code is beautiful\n",
    "#     10001011000 -> None of zero have equal 0's or 1's both side. Code is not beautiful"
   ]
  },
  {
   "cell_type": "code",
   "execution_count": 2,
   "id": "55abb5bd",
   "metadata": {},
   "outputs": [
    {
     "name": "stdout",
     "output_type": "stream",
     "text": [
      "True\n"
     ]
    }
   ],
   "source": [
    "def countOfOne(data,low,high):\n",
    "    count = 0\n",
    "#     print(low,high, end= \" \")\n",
    "    for i in range(low,high):\n",
    "#         print(i, end = \" \")\n",
    "        if data[i] == '1':\n",
    "            count += 1\n",
    "#     print(count)\n",
    "    return count\n",
    "\n",
    "def countOfZero(data,low,high):\n",
    "    count = 0\n",
    "    for i in range(low,high):\n",
    "        if data[i] == '0':\n",
    "            count+= 1\n",
    "#     print(count)\n",
    "    return count\n",
    "\n",
    "def isBeauty(data):\n",
    "    data = str(data)\n",
    "    for i in range(len(data)-1):\n",
    "        left1,right0,left0,right1 = 0,0,0,0\n",
    "        if data[i] == '0':\n",
    "            \n",
    "            left1 += countOfOne(data,0,i)\n",
    "#             print(left1)\n",
    "            right0 += countOfZero(data,i+1,len(data))\n",
    "            left0 += countOfZero(data,0,i)\n",
    "            right1 += countOfOne(data,i+1,len(data)-1)\n",
    "#         print(left1,right0, end = \" \")\n",
    "#         print()\n",
    "#         print(left0,right1, end = \" \")\n",
    "        if left1!=0 and right0 != 0 or left0 != 0 and right1 != 0:\n",
    "            if left1 == right0 or left0 == right1:\n",
    "                return True\n",
    "                break\n",
    "    else:\n",
    "        return False\n",
    "    \n",
    "print(isBeauty(1011010001))\n",
    "# print(isBeauty(10001011100))\n",
    "# print(isBeauty(10001011000))"
   ]
  },
  {
   "cell_type": "code",
   "execution_count": null,
   "id": "d1dd5c5d",
   "metadata": {},
   "outputs": [],
   "source": [
    "# Problem 03\n",
    "# Take a string containing braces () {} []\n",
    "# check if brackets implemented correctly i.e. start or end in correct order\n",
    "# Example: \n",
    "#     [()]  -> correct\n",
    "#     ([)]  -> Not correct\n",
    "#     [{()}] -> correct\n",
    "# Prob: \n",
    "# this doesn't solve '() [{}]'"
   ]
  },
  {
   "cell_type": "code",
   "execution_count": 11,
   "id": "61853bb0",
   "metadata": {},
   "outputs": [
    {
     "name": "stdout",
     "output_type": "stream",
     "text": [
      "{{}}()[()] contains valid parentheses.\n",
      "{][} contains invalid parentheses.\n",
      ") contains invalid parentheses.\n",
      "([)] contains invalid parentheses.\n",
      "() [{}] contains invalid parentheses.\n"
     ]
    }
   ],
   "source": [
    "def valid_paren(input_str):\n",
    "    # Declaraing a stack.\n",
    "    stack = []\n",
    "    # Iterating over the entire string\n",
    "    for paren in input_str:\n",
    "        # If the input string contains an opening parenthesis,\n",
    "        # push in on to the stack.\n",
    "        if paren == '(' or paren == '[' or paren == '{':\n",
    "            stack.append(paren)\n",
    "        else:\n",
    "            # In the case of valid parentheses, the stack cannot be \n",
    "            # be empty if a closing parenthesis is encountered.\n",
    "            if not stack:\n",
    "                print(input_str, \"contains invalid parentheses.\")\n",
    "                return\n",
    "            else:\n",
    "                # If the input string contains a closing bracket,\n",
    "                # then pop the corresponding opening parenthesis if\n",
    "                # present.\n",
    "                top = stack[-1]\n",
    "                if paren == ')' and top == '(' or \\\n",
    "                paren == ']' and top == '[' or \\\n",
    "                paren == '}' and top == '{':\n",
    "                    stack.pop()\n",
    "    # Checking the status of the stack to determine the\n",
    "    # validity of the string.\n",
    "    if not stack:\n",
    "        print(input_str, \"contains valid parentheses.\")\n",
    "    else:\n",
    "        print(input_str, \"contains invalid parentheses.\")\n",
    "\n",
    "input1 = \"{{}}()[()]\"\n",
    "input2 = \"{][}\"\n",
    "input3 = \")\"\n",
    "valid_paren(input1)\n",
    "valid_paren(input2)\n",
    "valid_paren(input3)\n",
    "input4 = \"([)]\"\n",
    "valid_paren(input4)\n",
    "input5 = '() [{}]'\n",
    "valid_paren(input5)"
   ]
  },
  {
   "cell_type": "code",
   "execution_count": null,
   "id": "b063f186",
   "metadata": {},
   "outputs": [],
   "source": [
    "# Problem 04\n",
    "# A function that check palindrome\n",
    "# if not palindrome it tries all combination to check if possible \n",
    "# then returns the string for which the palindrome is True\n",
    "# Example: \n",
    "#         TENET -> palindrome\n",
    "#         abcab -> abcba -> palindrome\n",
    "#         abc -> Not palindrome"
   ]
  },
  {
   "cell_type": "code",
   "execution_count": 9,
   "id": "cda2d4c4",
   "metadata": {},
   "outputs": [
    {
     "name": "stdout",
     "output_type": "stream",
     "text": [
      "myStr = 'abcab' is palindrome when myStr = abcba\n"
     ]
    }
   ],
   "source": [
    "from itertools import permutations\n",
    "\n",
    "def makePalindrome(myStr):\n",
    "    if myStr == myStr[::-1]:\n",
    "        return myStr\n",
    "    else:\n",
    "        permList = permutations(myStr)\n",
    "        for perm in list(permList):\n",
    "            if(''.join(perm) == ''.join(perm)[::-1]):\n",
    "                # print (''.join(perm),''.join(perm)[::-1])\n",
    "                return ''.join(perm)\n",
    "        else:\n",
    "            return None\n",
    "\n",
    "myStr = 'abcab'\n",
    "result = makePalindrome(myStr)\n",
    "if result != None:\n",
    "    print(\"myStr = '{}' is palindrome when myStr = {}\".format(myStr,result))\n",
    "else:\n",
    "    print(\"myStr = '{}' cannot make palindrome\".format(myStr))"
   ]
  },
  {
   "cell_type": "code",
   "execution_count": null,
   "id": "20cb8fd5",
   "metadata": {},
   "outputs": [],
   "source": [
    "# Problem 05: \n",
    "# Recursive fibonacci series\n",
    "# Input: 4\n",
    "# Output: 3\n",
    "# Rest I forgot, Probably the following solve. Don't know"
   ]
  },
  {
   "cell_type": "code",
   "execution_count": 14,
   "id": "7f386ebf",
   "metadata": {},
   "outputs": [
    {
     "name": "stdout",
     "output_type": "stream",
     "text": [
      "Enter a number >= -4: 3\n",
      "Fibonacci Number at location 3 in series : 2\n"
     ]
    }
   ],
   "source": [
    "# https://stackoverflow.com/questions/63136225/how-many-times-does-fib3-gets-called-when-we-call-fib6-using-the-recursive-a\n",
    "def fib(n):\n",
    "    if n == -3:\n",
    "        return 2\n",
    "    if n == -4:\n",
    "        return -3\n",
    "    return fib(n-1)+fib(n-2)\n",
    "\n",
    "n = int(input(\"Enter a number >= -4: \"))\n",
    "if n<-4:\n",
    "    raise ValueError(\"Invalid input\")\n",
    "print(\"Fibonacci Number at location {} in series : {}\".format(n,fib(n)))"
   ]
  }
 ],
 "metadata": {
  "kernelspec": {
   "display_name": "Python 3",
   "language": "python",
   "name": "python3"
  },
  "language_info": {
   "codemirror_mode": {
    "name": "ipython",
    "version": 3
   },
   "file_extension": ".py",
   "mimetype": "text/x-python",
   "name": "python",
   "nbconvert_exporter": "python",
   "pygments_lexer": "ipython3",
   "version": "3.8.8"
  }
 },
 "nbformat": 4,
 "nbformat_minor": 5
}
