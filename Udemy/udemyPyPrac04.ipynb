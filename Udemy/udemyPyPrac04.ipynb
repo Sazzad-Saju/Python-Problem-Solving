{
 "cells": [
  {
   "cell_type": "code",
   "execution_count": null,
   "id": "d438366e",
   "metadata": {},
   "outputs": [],
   "source": [
    "# Total Chapters Here:\n",
    "#    CHAPTER 22: Break, Continue\n",
    "#    CHAPTER 23: Python Errors and Exceptions\n",
    "#    CHAPTER 24: OOP APPROACH\n",
    "#    CHAPTER 25: NESTED DICTIONARY\n",
    "#    CHAPTER 26: OPERATOR OVERLOADING\n",
    "#    CHAPTER 27: COMMENTS"
   ]
  },
  {
   "cell_type": "code",
   "execution_count": null,
   "id": "d1566ecd",
   "metadata": {},
   "outputs": [],
   "source": [
    "#    CHAPTER 22: Break, Continue"
   ]
  },
  {
   "cell_type": "code",
   "execution_count": 6,
   "id": "444ac9e6",
   "metadata": {},
   "outputs": [
    {
     "name": "stdout",
     "output_type": "stream",
     "text": [
      "Number to be guuessed:  12\n",
      "Num:  1\n",
      "Num:  2\n",
      "Num:  3\n",
      "Num:  4\n",
      "Num:  5\n",
      "Num:  6\n",
      "Num:  7\n",
      "Num:  8\n",
      "Num:  9\n",
      "Num:  10\n",
      "Num:  11\n",
      "Num:  12\n",
      "Printed upto a random number\n"
     ]
    }
   ],
   "source": [
    "# break\n",
    "# implicitly implementing do while\n",
    "import random as r\n",
    "rand_num = r.randrange(1,20)\n",
    "print(\"Number to be guuessed: \", rand_num)\n",
    "i = 1\n",
    "while True:\n",
    "    print(\"Num: \", i)\n",
    "    if(i == rand_num):\n",
    "        print(\"Printed upto a random number\")\n",
    "        break\n",
    "    i += 1"
   ]
  },
  {
   "cell_type": "code",
   "execution_count": 7,
   "id": "d03116f9",
   "metadata": {},
   "outputs": [
    {
     "name": "stdout",
     "output_type": "stream",
     "text": [
      "Number to be guuessed:  9\n",
      "Num:  1\n",
      "Num:  3\n",
      "Num:  5\n",
      "Num:  7\n",
      "Num:  9\n"
     ]
    }
   ],
   "source": [
    "# continue\n",
    "import random as r\n",
    "rand_num = r.randrange(1,20)\n",
    "print(\"Number to be guuessed: \", rand_num)\n",
    "rand_num += 1\n",
    "for i in range(0,rand_num):\n",
    "    if(i%2 == 0):\n",
    "        continue\n",
    "    elif(i == rand_num):\n",
    "        print(\"Random sequence printed successfully\")\n",
    "        break\n",
    "    else: print(\"Num: \", i)"
   ]
  },
  {
   "cell_type": "code",
   "execution_count": null,
   "id": "043f1cd6",
   "metadata": {},
   "outputs": [],
   "source": [
    "#    CHAPTER 23: Python Errors and Exceptions"
   ]
  },
  {
   "cell_type": "code",
   "execution_count": 9,
   "id": "82dba5be",
   "metadata": {},
   "outputs": [
    {
     "name": "stdout",
     "output_type": "stream",
     "text": [
      "invalid literal for int() with base 10: 'hi'\n",
      "<class 'ValueError'>\n"
     ]
    }
   ],
   "source": [
    "# Error message and type\n",
    "try:\n",
    "    a = \"hi\"\n",
    "    b = int(a)\n",
    "except Exception as e:\n",
    "    print(e)             # ErrorMessage\n",
    "    print(e.__class__)   # ErrorType"
   ]
  },
  {
   "cell_type": "code",
   "execution_count": 26,
   "id": "b40c6d89",
   "metadata": {},
   "outputs": [
    {
     "name": "stdout",
     "output_type": "stream",
     "text": [
      "Place an input: df\n",
      "Place another: 45\n",
      "can only concatenate str (not \"int\") to str\n"
     ]
    }
   ],
   "source": [
    "# different types of error\n",
    "try:\n",
    "    a = input(\"Place an input: \")\n",
    "    b = input(\"Place another: \")\n",
    "#     c = int(a)/int(b)    #ZeroDivisionError(b==0), ValueError(a/b == Not a Number)\n",
    "    #or\n",
    "#     c = x/b    #NameError(x is not defined)\n",
    "    #or\n",
    "    c = a+int(b)   #TypeError(a always string, b int)(rmv int or both cast to int)\n",
    "    print(c)\n",
    "    \n",
    "except ZeroDivisionError as e:\n",
    "    print(e)\n",
    "except ValueError as e:\n",
    "    print(e)\n",
    "except NameError as e:\n",
    "    print(e)\n",
    "except TypeError as e:\n",
    "    print(e)"
   ]
  },
  {
   "cell_type": "code",
   "execution_count": 59,
   "id": "7c3aae49",
   "metadata": {},
   "outputs": [
    {
     "name": "stdout",
     "output_type": "stream",
     "text": [
      "Hello World\n"
     ]
    }
   ],
   "source": [
    "# Read write file with err handling\n",
    "try:\n",
    "    file = open(\"tryCatchFile.txt\",\"w\") \n",
    "    file.write(\"Hello World\")\n",
    "\n",
    "    file = open(\"tryCatchFile.txt\", \"r\")\n",
    "    print(file.read())\n",
    "except Exception as e:\n",
    "    print(e)\n",
    "finally:\n",
    "    file.close()"
   ]
  },
  {
   "cell_type": "code",
   "execution_count": 60,
   "id": "2eb152e5",
   "metadata": {},
   "outputs": [
    {
     "name": "stdout",
     "output_type": "stream",
     "text": [
      "Not eligible to vote\n",
      "\n"
     ]
    }
   ],
   "source": [
    "# User Defined Exception\n",
    "class VotersEligibility(Exception):\n",
    "    def __init__(self):\n",
    "        super()\n",
    "    def __str__(self):\n",
    "        return \"Not eligible to vote\"\n",
    "try:\n",
    "#     age = \"65\"    #raise TypeError\n",
    "    age = 12\n",
    "    if age<18:\n",
    "        raise VotersEligibility\n",
    "    else:\n",
    "        print(\"Eligible to vote\")\n",
    "except VotersEligibility as e:\n",
    "    print(e)\n",
    "except TypeError:\n",
    "    print(\"Not a number\")"
   ]
  },
  {
   "cell_type": "code",
   "execution_count": null,
   "id": "afddc7fb",
   "metadata": {},
   "outputs": [],
   "source": [
    "#    CHAPTER 24: OOP APPROACH"
   ]
  },
  {
   "cell_type": "code",
   "execution_count": 29,
   "id": "63947c29",
   "metadata": {},
   "outputs": [
    {
     "name": "stdout",
     "output_type": "stream",
     "text": [
      "First Student Profile: \n",
      "Name: Sazzad Saju \n",
      "Age: 27\n",
      "Dept:  CSE\n"
     ]
    }
   ],
   "source": [
    "#OOP Concept\n",
    "# Inheritance\n",
    "class Person:\n",
    "    def __init__(self, first_name, last_name, age):\n",
    "        self.first_name = first_name\n",
    "        self.last_name = last_name\n",
    "        self.age = age\n",
    "\n",
    "    def about(self):\n",
    "        print(\"Name: {0} {1} \\nAge: {2}\".format(self.first_name, self.last_name, self.age))\n",
    "\n",
    "\n",
    "class Student(Person):\n",
    "    def __init__(self, first_name, last_name, age, dept, sid):\n",
    "        super().__init__(first_name, last_name, age)\n",
    "        self.dept = dept\n",
    "        self.sid = sid\n",
    "\n",
    "    def profile(self):\n",
    "        super().about()\n",
    "        print(\"Dept: \", self.dept)\n",
    "        print(\"ID: \", self.sid)\n",
    "\n",
    "\n",
    "p1 = Person(\"Shanta\", \"Jannat\", 26)\n",
    "stnt1 = Student(\"Sazzad\", \"Saju\", 27, \"CSE\", 1602049)\n",
    "print(\"First Student Profile: \")\n",
    "stnt1.about()\n",
    "print(\"Dept: \", stnt1.dept)"
   ]
  },
  {
   "cell_type": "code",
   "execution_count": 78,
   "id": "dc5a337c",
   "metadata": {},
   "outputs": [
    {
     "name": "stdout",
     "output_type": "stream",
     "text": [
      "Selling price: 200000\n",
      "Selling price: 300000\n",
      "Selling price: 400000\n"
     ]
    }
   ],
   "source": [
    "# Encapsulation\n",
    "class personalComputer:\n",
    "    def __init__(self):\n",
    "        self.maxComputerPrice = 200000\n",
    "    def mySell(self):\n",
    "        print(\"Selling price: {}\".format(self.maxComputerPrice))\n",
    "    def setMaxComputerPrice(self,price):\n",
    "        self.maxComputerPrice = price\n",
    "\n",
    "pc = personalComputer()\n",
    "pc.mySell()\n",
    "\n",
    "pc.maxComputerPrice = 300000\n",
    "pc.mySell()\n",
    "\n",
    "pc.setMaxComputerPrice(400000)\n",
    "pc.mySell()"
   ]
  },
  {
   "cell_type": "code",
   "execution_count": null,
   "id": "70e90815",
   "metadata": {},
   "outputs": [],
   "source": [
    "#    CHAPTER 25: NESTED DICTIONARY"
   ]
  },
  {
   "cell_type": "code",
   "execution_count": 30,
   "id": "997038dc",
   "metadata": {},
   "outputs": [
    {
     "name": "stdout",
     "output_type": "stream",
     "text": [
      "{1: {'name': 'Nishi', 'age': 24, 'sex': 'Female'}, 2: {'name': 'Saju', 'age': 27, 'sex': 'Male'}}\n",
      "Nishi\n",
      "Saju\n"
     ]
    }
   ],
   "source": [
    "# nested dictionary\n",
    "people = {1:{'name':'Nishi','age':24, 'sex':'Female'},\n",
    "         2:{'name':'Saju', 'age': 27, 'sex': 'Male'}}\n",
    "print(people)\n",
    "print(people[1]['name'])\n",
    "print(people[2]['name'])"
   ]
  },
  {
   "cell_type": "code",
   "execution_count": 80,
   "id": "71473135",
   "metadata": {},
   "outputs": [
    {
     "name": "stdout",
     "output_type": "stream",
     "text": [
      "{1: {'name': 'Nishi', 'age': 24, 'sex': 'Female'}, 2: {'name': 'Saju', 'age': 27, 'sex': 'Male'}, 3: {'name': 'Nisha', 'age': 2, 'sex': 'Female'}}\n",
      "{1: {'name': 'Nishi', 'age': 24, 'sex': 'Female'}, 2: {'name': 'Saju', 'age': 27, 'sex': 'Male'}, 3: {'name': 'Nisha', 'age': 2, 'sex': 'Female'}, 4: {'name': 'sani', 'age': 4, 'sex': 'male'}}\n"
     ]
    }
   ],
   "source": [
    "# adding elem to the prev. nested dictionary\n",
    "people[3] = {}\n",
    "people[3]['name'] = 'Nisha'\n",
    "people[3]['age'] = 2\n",
    "people[3]['sex'] = 'Female'\n",
    "print(people)\n",
    "\n",
    "people[4] = {'name':'sani','age':4,'sex':'male'}\n",
    "print(people)"
   ]
  },
  {
   "cell_type": "code",
   "execution_count": 81,
   "id": "f7bc1d11",
   "metadata": {},
   "outputs": [
    {
     "name": "stdout",
     "output_type": "stream",
     "text": [
      "{1: {'name': 'Nishi', 'age': 24, 'sex': 'Female', 'Married': 'yes'}, 2: {'name': 'Saju', 'age': 27, 'sex': 'Male', 'Married': 'yes'}, 3: {'name': 'Nisha', 'age': 2, 'sex': 'Female'}, 4: {'name': 'sani', 'age': 4, 'sex': 'male'}}\n",
      "\n",
      "{1: {'name': 'Nishi', 'age': 24, 'sex': 'Female'}, 2: {'name': 'Saju', 'age': 27, 'sex': 'Male'}, 3: {'name': 'Nisha', 'age': 2, 'sex': 'Female'}, 4: {'name': 'sani', 'age': 4, 'sex': 'male'}}\n",
      "\n",
      "{2: {'name': 'Saju', 'age': 27, 'sex': 'Male'}, 4: {'name': 'sani', 'age': 4, 'sex': 'male'}}\n"
     ]
    }
   ],
   "source": [
    "# add property into element\n",
    "people[1]['Married'] = 'yes'\n",
    "people[2]['Married'] = 'yes'\n",
    "print(people)\n",
    "print()\n",
    "\n",
    "# delete property from element\n",
    "del people[2]['Married'], people[1] ['Married']\n",
    "print(people)\n",
    "print()\n",
    "\n",
    "# delete one dictionary\n",
    "del people[1], people[3]\n",
    "print(people)\n"
   ]
  },
  {
   "cell_type": "code",
   "execution_count": 83,
   "id": "1ba13d54",
   "metadata": {},
   "outputs": [
    {
     "name": "stdout",
     "output_type": "stream",
     "text": [
      "dict_items([(2, {'name': 'Saju', 'age': 27, 'sex': 'Male'}), (4, {'name': 'sani', 'age': 4, 'sex': 'male'})])\n",
      "\n",
      "Person Number:  2\n",
      "name: Saju\n",
      "age: 27\n",
      "sex: Male\n",
      "\n",
      "Person Number:  4\n",
      "name: sani\n",
      "age: 4\n",
      "sex: male\n"
     ]
    }
   ],
   "source": [
    "#iterating through a nested dictionary\n",
    "print(people.items())\n",
    "\n",
    "for pn,p_info in people.items():\n",
    "    print(\"\\nPerson Number: \",pn)\n",
    "    for key in p_info:\n",
    "        print(key + ':',p_info[key])"
   ]
  },
  {
   "cell_type": "code",
   "execution_count": null,
   "id": "7742b130",
   "metadata": {},
   "outputs": [],
   "source": [
    "#    CHAPTER 26: OPERATOR OVERLOADING"
   ]
  },
  {
   "cell_type": "code",
   "execution_count": 90,
   "id": "7e5cb530",
   "metadata": {},
   "outputs": [
    {
     "name": "stdout",
     "output_type": "stream",
     "text": [
      "(4,5)\n",
      "(3,6)\n",
      "\n",
      "(7,11)\n",
      "True\n"
     ]
    }
   ],
   "source": [
    "# Operator overloading\n",
    "class myPoint():\n",
    "    def __init__(self,x=0,y=0):\n",
    "        self.x = x\n",
    "        self.y = y\n",
    "    def __str__(self):\n",
    "        return \"({0},{1})\".format(self.x,self.y)\n",
    "    # overloading + operator\n",
    "    def __add__(self,other):\n",
    "        x = self.x + other.x\n",
    "        y = self.y + other.y\n",
    "        return myPoint(x,y)\n",
    "    # overloading < operator\n",
    "    def __lt__(self,other):\n",
    "        self.mag = (self.x ** 2) + (self.y **2)\n",
    "        other.mag = (other.x ** 2) + (other.y ** 2)\n",
    "        return self.mag<other.mag\n",
    "\n",
    "p1 = myPoint(4,5)\n",
    "p2 = myPoint(3,6)\n",
    "print(p1)\n",
    "print(p2)\n",
    "print()\n",
    "print(p1+p2)\n",
    "print(p1<p2)"
   ]
  },
  {
   "cell_type": "code",
   "execution_count": null,
   "id": "1c9e23e2",
   "metadata": {},
   "outputs": [],
   "source": [
    "#    CHAPTER 27: COMMENTS"
   ]
  },
  {
   "cell_type": "code",
   "execution_count": 95,
   "id": "1c54ea77",
   "metadata": {},
   "outputs": [
    {
     "name": "stdout",
     "output_type": "stream",
     "text": [
      "21\n",
      "21\n"
     ]
    }
   ],
   "source": [
    "# multi line assignment\n",
    "# Explicit line continuation\n",
    "b = 1+2+3+\\\n",
    "    4+5+6\n",
    "print(b)\n",
    "# Implicit line continuation\n",
    "c = (1+2+3+\n",
    "    4+5+6)\n",
    "print(c)"
   ]
  },
  {
   "cell_type": "code",
   "execution_count": 98,
   "id": "53739b5b",
   "metadata": {},
   "outputs": [
    {
     "name": "stdout",
     "output_type": "stream",
     "text": [
      "10 20 30\n"
     ]
    }
   ],
   "source": [
    "# multi line statement in one line\n",
    "a = 10; b=20; c=30\n",
    "print(a,b,c)"
   ]
  },
  {
   "cell_type": "code",
   "execution_count": 100,
   "id": "d471afee",
   "metadata": {},
   "outputs": [
    {
     "name": "stdout",
     "output_type": "stream",
     "text": [
      "End of for loop\n"
     ]
    }
   ],
   "source": [
    "# pass statement\n",
    "arr = [1,2,3,4,5]\n",
    "for i in arr:\n",
    "    pass\n",
    "print(\"End of for loop\")"
   ]
  }
 ],
 "metadata": {
  "kernelspec": {
   "display_name": "Python 3",
   "language": "python",
   "name": "python3"
  },
  "language_info": {
   "codemirror_mode": {
    "name": "ipython",
    "version": 3
   },
   "file_extension": ".py",
   "mimetype": "text/x-python",
   "name": "python",
   "nbconvert_exporter": "python",
   "pygments_lexer": "ipython3",
   "version": "3.8.8"
  }
 },
 "nbformat": 4,
 "nbformat_minor": 5
}
