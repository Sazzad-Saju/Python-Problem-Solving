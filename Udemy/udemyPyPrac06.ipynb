{
 "cells": [
  {
   "cell_type": "code",
   "execution_count": null,
   "id": "f6a6cc80",
   "metadata": {},
   "outputs": [],
   "source": [
    "# Total Chapters Here:\n",
    "#    CHAPTER 33: LIST COMPREHENSION\n",
    "#    CHAPTER 34: RECURSION\n",
    "#    CHAPTER 35: INPUT, OUTPUT AND MODULE\n",
    "#    CHAPTER 36: LOOP\n",
    "#    CHAPTER 37: SHALLOW COPY AND DEEP COPY\n",
    "#    CHAPTER 38: ASSERTION\n",
    "#    CHAPTER 39: PROPERTY\n",
    "#    CHAPTER 40: CLOSURE"
   ]
  },
  {
   "cell_type": "code",
   "execution_count": null,
   "id": "ba5087be",
   "metadata": {},
   "outputs": [],
   "source": [
    "#    CHAPTER 33: LIST COMPREHENSION"
   ]
  },
  {
   "cell_type": "code",
   "execution_count": 9,
   "id": "298a4a7c",
   "metadata": {},
   "outputs": [
    {
     "name": "stdout",
     "output_type": "stream",
     "text": [
      "['H', 'u', 'm', 'a', 'n']\n",
      "['H', 'u', 'm', 'a', 'n']\n",
      "['H', 'u', 'm', 'a', 'n']\n"
     ]
    }
   ],
   "source": [
    "# iterating string\n",
    "h_letters = []\n",
    "for ltr in \"Human\":\n",
    "    h_letters.append(ltr)\n",
    "print(h_letters)\n",
    "\n",
    "# using comprehension\n",
    "hm_letters = [ltr for ltr in \"Human\"]\n",
    "print(hm_letters)\n",
    "\n",
    "# using lambda expression\n",
    "hu_letters = list(map(lambda x:x, 'Human'))\n",
    "print(hu_letters)"
   ]
  },
  {
   "cell_type": "code",
   "execution_count": 7,
   "id": "1313e76b",
   "metadata": {},
   "outputs": [
    {
     "name": "stdout",
     "output_type": "stream",
     "text": [
      "[0, 2, 4, 6, 8, 10, 12, 14, 16, 18]\n",
      "[0, 10, 20, 30, 40, 50, 60, 70, 80, 90]\n",
      "['Even', 'Odd', 'Even', 'Odd', 'Even', 'Odd', 'Even', 'Odd', 'Even', 'Odd']\n"
     ]
    }
   ],
   "source": [
    "# if with list comprehension\n",
    "ev_num = [x for x in range(20) if x%2 == 0]\n",
    "print(ev_num)\n",
    "\n",
    "# nested if with list comprehension\n",
    "limit_list = [x for x in range(100) if x%2 == 0 if x%5 == 0]\n",
    "print(limit_list)\n",
    "\n",
    "# if else with list comprehension\n",
    "strList = [\"Even\" if i%2 ==0 else \"Odd\" for i in range(10)]\n",
    "print(strList)\n"
   ]
  },
  {
   "cell_type": "code",
   "execution_count": 10,
   "id": "a9ce7c10",
   "metadata": {},
   "outputs": [
    {
     "name": "stdout",
     "output_type": "stream",
     "text": [
      "[[1, 2, 5, 7], [4, 3, 6, 5]]\n",
      "[[1, 2, 5], [4, 3, 6], [2, 1, 3]]\n"
     ]
    }
   ],
   "source": [
    "# Transposing a matrix using list comprehension\n",
    "matrix = [[1,4], [2,3], [5,6], [7,5]]\n",
    "transpose = [[row[i] for row in matrix] for i in range(2)]\n",
    "print(transpose)\n",
    "#example2\n",
    "matrix = [[1,4,2], [2,3,1], [5,6,3]]\n",
    "transpose = [[row[i] for row in matrix] for i in range(len(matrix[0]))]\n",
    "print(transpose)"
   ]
  },
  {
   "cell_type": "code",
   "execution_count": null,
   "id": "80ecac32",
   "metadata": {},
   "outputs": [],
   "source": [
    "#    CHAPTER 34: RECURSION"
   ]
  },
  {
   "cell_type": "code",
   "execution_count": 6,
   "id": "611b7889",
   "metadata": {},
   "outputs": [
    {
     "name": "stdout",
     "output_type": "stream",
     "text": [
      "Factorial of 5 is  24\n"
     ]
    }
   ],
   "source": [
    "# recursion\n",
    "# get factorial\n",
    "\n",
    "def fact(n):\n",
    "    if n <= 1:\n",
    "        return 1;\n",
    "    return n * fact(n-1)\n",
    "\n",
    "print(\"Factorial of 5 is \", fact(4))"
   ]
  },
  {
   "cell_type": "code",
   "execution_count": null,
   "id": "eec23d00",
   "metadata": {},
   "outputs": [],
   "source": [
    "#    CHAPTER 35: INPUT, OUTPUT AND MODULE"
   ]
  },
  {
   "cell_type": "code",
   "execution_count": 11,
   "id": "0059df19",
   "metadata": {},
   "outputs": [
    {
     "name": "stdout",
     "output_type": "stream",
     "text": [
      "Hello : what : when & Bye\n"
     ]
    }
   ],
   "source": [
    "# sep end in print\n",
    "a = 'Hello'; b = 'what'; c = 'when'\n",
    "print(a,b,c,sep=' : ' ,end = ' & ')\n",
    "print(\"Bye\")"
   ]
  },
  {
   "cell_type": "code",
   "execution_count": 21,
   "id": "ebd61013",
   "metadata": {},
   "outputs": [
    {
     "name": "stdout",
     "output_type": "stream",
     "text": [
      "Input a number to get square value: 3\n",
      "9\n"
     ]
    }
   ],
   "source": [
    "# input, import\n",
    "x = input(\"Input a number to get square value: \")\n",
    "import math\n",
    "print(int(math.pow(int(x),2)))"
   ]
  },
  {
   "cell_type": "code",
   "execution_count": null,
   "id": "e55ac95c",
   "metadata": {},
   "outputs": [],
   "source": [
    "#    CHAPTER 36: LOOP"
   ]
  },
  {
   "cell_type": "code",
   "execution_count": 13,
   "id": "df76bc74",
   "metadata": {},
   "outputs": [
    {
     "name": "stdout",
     "output_type": "stream",
     "text": [
      "Enter the secret word: p\n",
      "Enter the secret word: y\n",
      "Enter the secret word: t\n",
      "Enter the secret word: python\n"
     ]
    }
   ],
   "source": [
    "# Enter the secret work to break else upto 8 time executed\n",
    "secret_word = \"python\"\n",
    "counter = 0\n",
    "\n",
    "while True:\n",
    "    word = input(\"Enter the secret word: \").lower()\n",
    "    counter = counter + 1\n",
    "    if word == secret_word:\n",
    "        break\n",
    "    if word != secret_word and counter > 7: \n",
    "        break"
   ]
  },
  {
   "cell_type": "code",
   "execution_count": 25,
   "id": "ac49d8db",
   "metadata": {},
   "outputs": [
    {
     "name": "stdout",
     "output_type": "stream",
     "text": [
      "7\n"
     ]
    }
   ],
   "source": [
    "# Python does not have a do-while loop. You can however simulate\n",
    "# it by using a while loop over True and breaking when a certain\n",
    "# condition is met.\n",
    "# Example:\n",
    "i = 7\n",
    "while True:\n",
    "    print(i)\n",
    "    i = i + 1\n",
    "    if(i > 3):\n",
    "        break"
   ]
  },
  {
   "cell_type": "code",
   "execution_count": null,
   "id": "baff145f",
   "metadata": {},
   "outputs": [],
   "source": [
    "#    CHAPTER 37: SHALLOW COPY AND DEEP COPY"
   ]
  },
  {
   "cell_type": "code",
   "execution_count": 29,
   "id": "7b27e2ef",
   "metadata": {},
   "outputs": [
    {
     "name": "stdout",
     "output_type": "stream",
     "text": [
      "list1 -->  [[1, 2, 3], [7, 8, 9]]\n",
      "list2 -->  [[1, 2, 3], [7, 8, 9]]\n",
      "list1 id -->  2103802881792\n",
      "list2 id -->  2103802881792\n",
      "list1 -->  [[1, 2, 3], [7, 8, 9], [4, 5, 6]]\n",
      "list2 -->  [[1, 2, 3], [7, 8, 9], [4, 5, 6]]\n"
     ]
    }
   ],
   "source": [
    "# deep copy shallow copy\n",
    "# 1st prob\n",
    "list1 = [[1,2,3],[7,8,9]]\n",
    "list2 = list1\n",
    "print(\"list1 --> \", list1)\n",
    "print(\"list2 --> \", list2)\n",
    "print(\"list1 id --> \", id(list1))\n",
    "print(\"list2 id --> \", id(list2))\n",
    "\n",
    "list1.append([4,5,6])\n",
    "print(\"list1 --> \", list1)\n",
    "print(\"list2 --> \", list2)    # both updated"
   ]
  },
  {
   "cell_type": "code",
   "execution_count": 34,
   "id": "e0317bc3",
   "metadata": {},
   "outputs": [
    {
     "name": "stdout",
     "output_type": "stream",
     "text": [
      "old list -->  [[1, 2, 3], [7, 8, 9]]\n",
      "new list -->  [[1, 2, 3], [7, 8, 9]]\n",
      "old_ls -->  [[1, 2, 3], [7, 8, 9]]\n",
      "new_ls -->  [[1, 2, 3], [7, 8, 9], [4, 5, 6]]\n",
      "old_ls -->  [[1, 2, 3], [7, 'AA', 9]]\n",
      "new_ls -->  [[1, 2, 3], [7, 'AA', 9], [4, 5, 6]]\n",
      "old_ls -->  [[1, 2, 3], [7, 'AA', 9]]\n",
      "new_ls -->  [[1, 2, 3], [7, 'AA', 9], [4, 5, 'BB']]\n"
     ]
    }
   ],
   "source": [
    "# shallow copy\n",
    "import copy\n",
    "old_ls = [[1,2,3], [7,8,9]]\n",
    "new_ls = copy.copy(old_ls)\n",
    "print(\"old list --> \", old_ls)\n",
    "print(\"new list --> \", new_ls)\n",
    "\n",
    "# add new elem\n",
    "new_ls.append([4,5,6])\n",
    "print(\"old_ls --> \", old_ls)\n",
    "print(\"new_ls --> \", new_ls)\n",
    "\n",
    "# add new nested obj\n",
    "new_ls[1][1] = 'AA'\n",
    "print(\"old_ls --> \", old_ls)\n",
    "print(\"new_ls --> \", new_ls)\n",
    "\n",
    "# add new nested obj in new appended\n",
    "new_ls[2][2] = 'BB'\n",
    "print(\"old_ls --> \", old_ls)\n",
    "print(\"new_ls --> \", new_ls)"
   ]
  },
  {
   "cell_type": "code",
   "execution_count": 38,
   "id": "0dee94d9",
   "metadata": {},
   "outputs": [
    {
     "name": "stdout",
     "output_type": "stream",
     "text": [
      "old list2 -->  [[1, 2, 3], [7, 8, 9]]\n",
      "new list2 -->  [[1, 2, 3], [7, 8, 9]]\n",
      "old list2 id -->  2103803381248\n",
      "new list2 id -->  2103803382720\n",
      "old list2 -->  [[1, 2, 3], [7, 8, 9]]\n",
      "new list2 -->  [[1, 2, 3], [7, 8, 'AA']]\n"
     ]
    }
   ],
   "source": [
    "# deep copy\n",
    "import copy\n",
    "old_ls2 = [[1,2,3], [7,8,9]]\n",
    "new_ls2 = copy.deepcopy(old_ls2)\n",
    "print(\"old list2 --> \", old_ls2)\n",
    "print(\"new list2 --> \", new_ls2)\n",
    "print(\"old list2 id --> \", id(old_ls2))\n",
    "print(\"new list2 id --> \", id(new_ls2))\n",
    "\n",
    "# updates any elem / nested obj\n",
    "new_ls2[1][2] = 'AA'\n",
    "print(\"old list2 --> \", old_ls2)\n",
    "print(\"new list2 --> \", new_ls2)"
   ]
  },
  {
   "cell_type": "code",
   "execution_count": null,
   "id": "4140d743",
   "metadata": {},
   "outputs": [],
   "source": [
    "#    CHAPTER 38: ASSERTION"
   ]
  },
  {
   "cell_type": "code",
   "execution_count": 3,
   "id": "71f645b7",
   "metadata": {},
   "outputs": [
    {
     "name": "stdout",
     "output_type": "stream",
     "text": [
      "Average of marks:  6.666666666666667\n"
     ]
    },
    {
     "ename": "AssertionError",
     "evalue": "List is empty",
     "output_type": "error",
     "traceback": [
      "\u001b[1;31m---------------------------------------------------------------------------\u001b[0m",
      "\u001b[1;31mAssertionError\u001b[0m                            Traceback (most recent call last)",
      "\u001b[1;32m<ipython-input-3-371da55ea42b>\u001b[0m in \u001b[0;36m<module>\u001b[1;34m\u001b[0m\n\u001b[0;32m      9\u001b[0m \u001b[1;33m\u001b[0m\u001b[0m\n\u001b[0;32m     10\u001b[0m \u001b[0mmark2\u001b[0m \u001b[1;33m=\u001b[0m \u001b[1;33m[\u001b[0m\u001b[1;33m]\u001b[0m\u001b[1;33m\u001b[0m\u001b[1;33m\u001b[0m\u001b[0m\n\u001b[1;32m---> 11\u001b[1;33m \u001b[0mprint\u001b[0m\u001b[1;33m(\u001b[0m\u001b[0mavg\u001b[0m\u001b[1;33m(\u001b[0m\u001b[0mmark2\u001b[0m\u001b[1;33m)\u001b[0m\u001b[1;33m)\u001b[0m    \u001b[1;31m# assertion err\u001b[0m\u001b[1;33m\u001b[0m\u001b[1;33m\u001b[0m\u001b[0m\n\u001b[0m",
      "\u001b[1;32m<ipython-input-3-371da55ea42b>\u001b[0m in \u001b[0;36mavg\u001b[1;34m(marks)\u001b[0m\n\u001b[0;32m      2\u001b[0m \u001b[1;32mdef\u001b[0m \u001b[0mavg\u001b[0m\u001b[1;33m(\u001b[0m\u001b[0mmarks\u001b[0m\u001b[1;33m)\u001b[0m\u001b[1;33m:\u001b[0m\u001b[1;33m\u001b[0m\u001b[1;33m\u001b[0m\u001b[0m\n\u001b[0;32m      3\u001b[0m \u001b[1;31m#     assert len(marks) != 0    # no err msg\u001b[0m\u001b[1;33m\u001b[0m\u001b[1;33m\u001b[0m\u001b[1;33m\u001b[0m\u001b[0m\n\u001b[1;32m----> 4\u001b[1;33m     \u001b[1;32massert\u001b[0m \u001b[0mlen\u001b[0m\u001b[1;33m(\u001b[0m\u001b[0mmarks\u001b[0m\u001b[1;33m)\u001b[0m \u001b[1;33m!=\u001b[0m \u001b[1;36m0\u001b[0m\u001b[1;33m,\u001b[0m \u001b[1;34m\"List is empty\"\u001b[0m    \u001b[1;31m# with err msg\u001b[0m\u001b[1;33m\u001b[0m\u001b[1;33m\u001b[0m\u001b[0m\n\u001b[0m\u001b[0;32m      5\u001b[0m     \u001b[1;32mreturn\u001b[0m \u001b[0msum\u001b[0m\u001b[1;33m(\u001b[0m\u001b[0mmarks\u001b[0m\u001b[1;33m)\u001b[0m\u001b[1;33m/\u001b[0m\u001b[0mlen\u001b[0m\u001b[1;33m(\u001b[0m\u001b[0mmarks\u001b[0m\u001b[1;33m)\u001b[0m\u001b[1;33m\u001b[0m\u001b[1;33m\u001b[0m\u001b[0m\n\u001b[0;32m      6\u001b[0m \u001b[1;33m\u001b[0m\u001b[0m\n",
      "\u001b[1;31mAssertionError\u001b[0m: List is empty"
     ]
    }
   ],
   "source": [
    "# Assertion\n",
    "def avg(marks):\n",
    "#     assert len(marks) != 0    # no err msg shown\n",
    "    assert len(marks) != 0, \"List is empty\"    # err msg shown\n",
    "    return sum(marks)/len(marks)\n",
    "\n",
    "mark1 = [4,6,10]\n",
    "print(\"Average of marks: \",avg(mark1))\n",
    "\n",
    "mark2 = []\n",
    "print(avg(mark2))    # assertion err"
   ]
  },
  {
   "cell_type": "code",
   "execution_count": null,
   "id": "66bbf24a",
   "metadata": {},
   "outputs": [],
   "source": [
    "#    CHAPTER 39: PROPERTY"
   ]
  },
  {
   "cell_type": "code",
   "execution_count": 25,
   "id": "bccb0175",
   "metadata": {},
   "outputs": [
    {
     "name": "stdout",
     "output_type": "stream",
     "text": [
      "<class 'int'>\n",
      "True\n",
      "<class 'float'>\n",
      "True\n"
     ]
    }
   ],
   "source": [
    "a = 10\n",
    "print(type(a))\n",
    "print(type(a) == int)\n",
    "\n",
    "a = 10.5\n",
    "print(type(a))\n",
    "print(type(a) == float)"
   ]
  },
  {
   "cell_type": "code",
   "execution_count": 26,
   "id": "0b80587c",
   "metadata": {},
   "outputs": [
    {
     "name": "stdout",
     "output_type": "stream",
     "text": [
      "100.00004\n"
     ]
    }
   ],
   "source": [
    "# Use of Property\n",
    "class tempConverter:\n",
    "    def __init__(self,temperature = 0):\n",
    "        if type(temperature) != int and type(temperature) != float:\n",
    "            raise TypeError(\"Temperature must be a number\")\n",
    "        elif temperature < -273:\n",
    "            raise ValueError(\"Temperature below -273 cannot convert\")\n",
    "        self._temperature = temperature\n",
    "    def conv2Fahrenheit(self):\n",
    "        return (self._temperature *1.8) + 32\n",
    "    def get_temperature(self):\n",
    "        return self._temperature\n",
    "    def set_temperature(self,value):\n",
    "        if type(value) != int and type(value) != float:\n",
    "            raise TypeError(\"Temperature must be a number\")\n",
    "        elif value < -273:\n",
    "            raise ValueError(\"Temperature below -273 cannot convert\")\n",
    "        self._temperature = value\n",
    "    temperature = property(get_temperature, set_temperature)\n",
    "    \n",
    "# ValueError through constructor\n",
    "# c = tempConverter(-300)\n",
    "\n",
    "# ValueError through set property\n",
    "# c = tempConverter(-30)\n",
    "# c.temperature = -300\n",
    "\n",
    "# TypeError through set property\n",
    "# c = tempConverter(-30)\n",
    "# c.temperature = 'c'\n",
    "\n",
    "# TypeError through constructor\n",
    "# c = tempConverter('c')\n",
    "\n",
    "c = tempConverter(37.7778)\n",
    "print(c.conv2Fahrenheit())"
   ]
  },
  {
   "cell_type": "code",
   "execution_count": 22,
   "id": "1b9a404b",
   "metadata": {},
   "outputs": [
    {
     "name": "stdout",
     "output_type": "stream",
     "text": [
      "5\n",
      "100\n"
     ]
    }
   ],
   "source": [
    "# Use of Property ex=2\n",
    "class tempConverter:\n",
    "    def __init__(self,temperature = 0):\n",
    "        self._temperature = temperature\n",
    "    def conv2Fahrenheit(self):\n",
    "        return (self._temperature *1.8) + 32\n",
    "    \n",
    "    @property\n",
    "    def temperature(self):\n",
    "        return self._temperature\n",
    "    \n",
    "    @temperature.setter\n",
    "    def temperature(self,value):\n",
    "        if value < -273:\n",
    "            raise ValueError(\"Temperature below -273 cannot convert\")\n",
    "        self._temperature = value\n",
    "    \n",
    "c = tempConverter(5)\n",
    "print(c.temperature)\n",
    "c.temperature = 100\n",
    "print(c.temperature)"
   ]
  },
  {
   "cell_type": "code",
   "execution_count": null,
   "id": "503aa4f3",
   "metadata": {},
   "outputs": [],
   "source": [
    "#    CHAPTER 40: CLOSURE"
   ]
  },
  {
   "cell_type": "code",
   "execution_count": 4,
   "id": "03f3d9f5",
   "metadata": {},
   "outputs": [
    {
     "name": "stdout",
     "output_type": "stream",
     "text": [
      "Hello\n"
     ]
    }
   ],
   "source": [
    "# closure\n",
    "# nested function\n",
    "\n",
    "def print_message(message):\n",
    "    def print_message_inner():\n",
    "        print(message)\n",
    "    return print_message_inner\n",
    "\n",
    "another = print_message(\"Hello\")    # another takes the ref of print_message_inner()\n",
    "another()"
   ]
  },
  {
   "cell_type": "code",
   "execution_count": 27,
   "id": "44496bfb",
   "metadata": {},
   "outputs": [
    {
     "name": "stdout",
     "output_type": "stream",
     "text": [
      "27\n",
      "15\n",
      "30\n"
     ]
    }
   ],
   "source": [
    "# another closer fun\n",
    "def multiplier_outer(n):\n",
    "    def multiplier_inner(x):\n",
    "        return x*n\n",
    "    return multiplier_inner\n",
    "\n",
    "times3 = multiplier_outer(3)\n",
    "print(times3(9))\n",
    "times5 = multiplier_outer(5)\n",
    "print(times5(3))\n",
    "print(times5(times3(2)))"
   ]
  }
 ],
 "metadata": {
  "kernelspec": {
   "display_name": "Python 3",
   "language": "python",
   "name": "python3"
  },
  "language_info": {
   "codemirror_mode": {
    "name": "ipython",
    "version": 3
   },
   "file_extension": ".py",
   "mimetype": "text/x-python",
   "name": "python",
   "nbconvert_exporter": "python",
   "pygments_lexer": "ipython3",
   "version": "3.8.8"
  }
 },
 "nbformat": 4,
 "nbformat_minor": 5
}
