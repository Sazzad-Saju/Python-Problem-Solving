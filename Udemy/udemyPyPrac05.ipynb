{
 "cells": [
  {
   "cell_type": "code",
   "execution_count": null,
   "id": "2d7256b9",
   "metadata": {},
   "outputs": [],
   "source": [
    "# Total Chapters Here:\n",
    "#    CHAPTER 28: PYTHON GENERATOR\n",
    "#    CHAPTER 29: PYTHON DECORATOR\n",
    "#    CHAPTER 30: WHILE LOOP\n",
    "#    CHAPTER 31: MATRIX IMPLEMENTATION\n",
    "#    CHAPTER 32: Regex"
   ]
  },
  {
   "cell_type": "code",
   "execution_count": null,
   "id": "12804a7f",
   "metadata": {},
   "outputs": [],
   "source": [
    "#    CHAPTER 28: PYTHON GENERATOR"
   ]
  },
  {
   "cell_type": "code",
   "execution_count": 3,
   "id": "065118d0",
   "metadata": {},
   "outputs": [
    {
     "name": "stdout",
     "output_type": "stream",
     "text": [
      "1\n",
      "2\n",
      "3\n"
     ]
    }
   ],
   "source": [
    "# Simple generator\n",
    "def my_generator():\n",
    "    n = 1\n",
    "    yield n\n",
    "    \n",
    "    n += 1\n",
    "    yield n\n",
    "    \n",
    "    n += 1\n",
    "    yield n\n",
    "    \n",
    "a = my_generator()\n",
    "print(next(a))\n",
    "print(next(a))\n",
    "print(next(a))\n",
    "# print(next(a))    #StopIteration Error"
   ]
  },
  {
   "cell_type": "code",
   "execution_count": 15,
   "id": "12cdb221",
   "metadata": {},
   "outputs": [
    {
     "name": "stdout",
     "output_type": "stream",
     "text": [
      "a\n",
      "t\n",
      "a\n",
      "t\n",
      "n\n",
      "a\n",
      "h\n",
      "S\n"
     ]
    }
   ],
   "source": [
    "# Generator with a loop\n",
    "def rev_str(myStr):\n",
    "    length = len(myStr)\n",
    "    for i in range(length-1,-1,-1):\n",
    "        yield myStr[i]\n",
    "\n",
    "genOb2 = rev_str('Shanta')\n",
    "print(next(genOb2))\n",
    "print(next(genOb2))\n",
    "\n",
    "# or using loop\n",
    "for char in rev_str('Shanta'):\n",
    "    print(char)"
   ]
  },
  {
   "cell_type": "code",
   "execution_count": null,
   "id": "0138061c",
   "metadata": {},
   "outputs": [],
   "source": [
    "#    CHAPTER 29: PYTHON DECORATOR"
   ]
  },
  {
   "cell_type": "code",
   "execution_count": 18,
   "id": "484f8193",
   "metadata": {},
   "outputs": [
    {
     "name": "stdout",
     "output_type": "stream",
     "text": [
      "Fuction gets decoration\n",
      "This is a simple function\n"
     ]
    }
   ],
   "source": [
    "# Decorator\n",
    "def make_decorated(func):\n",
    "    def inner_function():\n",
    "        print(\"Fuction gets decoration\")\n",
    "        func()\n",
    "    return inner_function()\n",
    "\n",
    "def simple_func():\n",
    "    print(\"This is a simple function\")\n",
    "    \n",
    "decor = make_decorated(simple_func)"
   ]
  },
  {
   "cell_type": "code",
   "execution_count": 4,
   "id": "2fde2b1e",
   "metadata": {},
   "outputs": [
    {
     "name": "stdout",
     "output_type": "stream",
     "text": [
      "I an dividing  20  by  2\n",
      "10.0\n",
      "I an dividing  10  by  0\n",
      "Oops! Divide by zero not possible\n",
      "None\n"
     ]
    }
   ],
   "source": [
    "# another decorator\n",
    "def my_smart_div(func):\n",
    "    def inner_func(x,y):\n",
    "        print(\"I an dividing \",x,\" by \",y)\n",
    "        if y == 0:\n",
    "            print(\"Oops! Divide by zero not possible\")\n",
    "            return\n",
    "        return func(x,y)\n",
    "    return inner_func\n",
    "\n",
    "\n",
    "@my_smart_div\n",
    "def go_divide(a,b):\n",
    "    return a/b\n",
    "\n",
    "print(go_divide(20,2))\n",
    "print(go_divide(10,0))"
   ]
  },
  {
   "cell_type": "code",
   "execution_count": null,
   "id": "3401ac14",
   "metadata": {},
   "outputs": [],
   "source": [
    "#    CHAPTER 30: WHILE LOOP"
   ]
  },
  {
   "cell_type": "code",
   "execution_count": 11,
   "id": "7c5991a0",
   "metadata": {},
   "outputs": [
    {
     "name": "stdout",
     "output_type": "stream",
     "text": [
      "Input the number of layers: 5\n",
      "....*\n",
      "...***\n",
      "..*****\n",
      ".*******\n",
      "*********\n"
     ]
    }
   ],
   "source": [
    "# While loop problem01\n",
    "# output the pyramid pattern\n",
    "\n",
    "n = int(input(\"Input the number of layers: \"))\n",
    "i = 1\n",
    "while i<=n :\n",
    "    j = 1\n",
    "    while j <= n-i:\n",
    "        print('.',end=\"\")\n",
    "        j += 1\n",
    "    j = 1    \n",
    "    while j <= 2*i - 1:\n",
    "        print('*',end=\"\")\n",
    "        j+=1\n",
    "    i += 1\n",
    "    print()"
   ]
  },
  {
   "cell_type": "code",
   "execution_count": 10,
   "id": "4dc3b09b",
   "metadata": {},
   "outputs": [
    {
     "name": "stdout",
     "output_type": "stream",
     "text": [
      "Input the number of layers: 5\n",
      "*********\n",
      ".*******\n",
      "..*****\n",
      "...***\n",
      "....*\n"
     ]
    }
   ],
   "source": [
    "# ********    n = 4\n",
    "# .*****      * 7 5 3 1\n",
    "# ..***       . 0 1 2 3\n",
    "# ...*\n",
    "# While loop problem02\n",
    "# output the inverse pyramid pattern\n",
    "\n",
    "n = int(input(\"Input the number of layers: \"))\n",
    "i = n\n",
    "while i>=1 :\n",
    "    j = n-i\n",
    "    while j > 0:\n",
    "        print('.',end=\"\")\n",
    "        j -= 1\n",
    "    j = 2*i -1    \n",
    "    while j > 0:\n",
    "        print('*',end=\"\")\n",
    "        j-=1\n",
    "    i -= 1\n",
    "    print()"
   ]
  },
  {
   "cell_type": "code",
   "execution_count": 29,
   "id": "dbcdaf4a",
   "metadata": {},
   "outputs": [
    {
     "name": "stdout",
     "output_type": "stream",
     "text": [
      "Input odd number of layers: 11\n",
      "***********\n",
      " *********\n",
      "  *******\n",
      "   *****\n",
      "    ***\n",
      "     *\n",
      "    ***\n",
      "   *****\n",
      "  *******\n",
      " *********\n",
      "***********\n"
     ]
    }
   ],
   "source": [
    "# While loop problem03\n",
    "# Output the Hourglass pattern\n",
    "n = int(input(\"Input odd number of layers: \"))\n",
    "m = (n+1)/2\n",
    "i = 1\n",
    "while i<=n :\n",
    "    if(i > m):\n",
    "        b = n-i\n",
    "        s = 2*(i-m)+1\n",
    "    else:\n",
    "        b = i-1\n",
    "        s = 2*(m-i)+1\n",
    "    j = 1 \n",
    "    while j <= b:\n",
    "        print(' ',end=\"\")\n",
    "        j += 1\n",
    "    j = 1    \n",
    "    while j <= s:\n",
    "        print('*',end=\"\")\n",
    "        j+=1\n",
    "    print()\n",
    "    i += 1"
   ]
  },
  {
   "cell_type": "code",
   "execution_count": null,
   "id": "662bc511",
   "metadata": {},
   "outputs": [],
   "source": [
    "# .....*\n",
    "# ....***\n",
    "# ...*****             n = 11, m = (n+1)/2 = 6\n",
    "# ..*******            * 1 3 5 7 9 11   9 7 5 3 1\n",
    "# .*********           . 5 4 3 2 1  0   1 2 3 4 5\n",
    "# ***********\n",
    "# .*********           . m-i    * 2i-1\n",
    "# ..*******            . i-m    * 2(n-m)+1\n",
    "# ...*****\n",
    "# ....***\n",
    "# .....*"
   ]
  },
  {
   "cell_type": "code",
   "execution_count": 40,
   "id": "85ce7fff",
   "metadata": {},
   "outputs": [
    {
     "name": "stdout",
     "output_type": "stream",
     "text": [
      "Input odd number of layers: 11\n",
      "     *\n",
      "    ***\n",
      "   *****\n",
      "  *******\n",
      " *********\n",
      "***********\n",
      " *********\n",
      "  *******\n",
      "   *****\n",
      "    ***\n",
      "     *\n"
     ]
    }
   ],
   "source": [
    "# While loop problem04\n",
    "# Output the dimond shape pattern\n",
    "n = int(input(\"Input odd number of layers: \"))\n",
    "m = (n+1)/2\n",
    "i = 1\n",
    "while i<=n :\n",
    "    if(i < m):\n",
    "        b = m-i\n",
    "        s = 2*i -1\n",
    "    else:\n",
    "        b = i-m\n",
    "        s = 2*(n-i)+1\n",
    "    j = 1 \n",
    "    while j <= b:\n",
    "        print(' ',end=\"\")\n",
    "        j += 1\n",
    "    j = 1    \n",
    "    while j <= s:\n",
    "        print('*',end=\"\")\n",
    "        j+=1\n",
    "    print()\n",
    "    i += 1"
   ]
  },
  {
   "cell_type": "code",
   "execution_count": null,
   "id": "9d9fab56",
   "metadata": {},
   "outputs": [],
   "source": [
    "#    CHAPTER 31: MATRIX IMPLEMENTATION"
   ]
  },
  {
   "cell_type": "code",
   "execution_count": 6,
   "id": "d8272873",
   "metadata": {},
   "outputs": [
    {
     "name": "stdout",
     "output_type": "stream",
     "text": [
      "[['Saju', 80, 90, 75, 86], ['Shanta', 84, 85, 88], ['Shammi', 72, 76, 81]]\n",
      "[['Shakila', 50, 54, 64, 84, 88], ['Shakira', 76, 70, 45], ['Sumaiya', 65, 54]]\n"
     ]
    }
   ],
   "source": [
    "# from nested list to matrix: same number of elem\n",
    "\n",
    "# matrix\n",
    "a = [[\"Saju\",80,90,75,86],\n",
    "     [\"Shanta\",84,85,88],\n",
    "     [\"Shammi\",72,76,81]]\n",
    "\n",
    "# not a matrix\n",
    "b = [[\"Shakila\",50,54,64,84,88],\n",
    "     [\"Shakira\",76,70,45],\n",
    "     [\"Sumaiya\",65,54]]\n",
    "\n",
    "print(a)\n",
    "print(b)"
   ]
  },
  {
   "cell_type": "code",
   "execution_count": 7,
   "id": "178c4d18",
   "metadata": {},
   "outputs": [
    {
     "name": "stdout",
     "output_type": "stream",
     "text": [
      "[0, 0, 0]\n",
      "[[0, 0, 0, 0], [0, 0, 0, 0], [0, 0, 0, 0]]\n"
     ]
    }
   ],
   "source": [
    "# creating dynamic matrix\n",
    "n = 3\n",
    "m = 4\n",
    "a = [0]*n\n",
    "print(a)\n",
    "\n",
    "for i in range (n):\n",
    "    a[i] = [0]*m\n",
    "print(a)"
   ]
  },
  {
   "cell_type": "code",
   "execution_count": 10,
   "id": "32145977",
   "metadata": {},
   "outputs": [
    {
     "name": "stdout",
     "output_type": "stream",
     "text": [
      "['Shammi', 72, 76, 81]\n",
      "76\n",
      "['Shammi', 72, 76, 81]\n",
      "76\n",
      "['Saju', 80, 90, 75, 86]\n",
      "[['Saju', 'CSE', 90, 75, 86], ['Shanta', 84, 85, 88], ['Shammi', 72, 76, 81]]\n",
      "Shanta\n",
      "[['Saju', 'CSE', 90, 75, 86], ['Raju', 84, 85, 88], ['Shammi', 72, 76, 81]]\n",
      "[['Saju', 'CSE', 90, 75, 86], ['Raju', 84, 85, 'DEV'], ['Anamka', 79, 98, 87, 99]]\n"
     ]
    }
   ],
   "source": [
    "# accessing elements\n",
    "mat1 = [[\"Saju\",80,90,75,86],\n",
    "        [\"Shanta\",84,85,88],\n",
    "        [\"Shammi\",72,76,81]]\n",
    "\n",
    "print(mat1[2])\n",
    "print(mat1[2][2])\n",
    "print(mat1[-1])\n",
    "print(mat1[-1][-2])\n",
    "\n",
    "# change elements\n",
    "b = mat1[0]\n",
    "print(b)\n",
    "b[1] = \"CSE\"\n",
    "print(mat1)\n",
    "print(mat1[1][0])\n",
    "mat1[1][0] = \"Raju\"\n",
    "print(mat1)\n",
    "mat1[1][3] = \"DEV\"\n",
    "# mat1[1][4] = \"DUD\"    # IndexError\n",
    "mat1[2] = [\"Anamka\", 79,98,87,99]\n",
    "print(mat1)"
   ]
  },
  {
   "cell_type": "code",
   "execution_count": null,
   "id": "87d4d447",
   "metadata": {},
   "outputs": [],
   "source": [
    "#    CHAPTER 32: Regex"
   ]
  },
  {
   "cell_type": "code",
   "execution_count": 16,
   "id": "6f334da8",
   "metadata": {},
   "outputs": [
    {
     "name": "stdout",
     "output_type": "stream",
     "text": [
      "<re.Match object; span=(19, 22), match='ape'>\n",
      "(19, 22)\n"
     ]
    }
   ],
   "source": [
    "import re\n",
    "# search for 'ape'\n",
    "str1 = 'The Ape was at the apex'\n",
    "print(re.search('ape', str1))\n",
    "print(re.search('ape',str1).span())"
   ]
  },
  {
   "cell_type": "code",
   "execution_count": 11,
   "id": "d79fb87b",
   "metadata": {},
   "outputs": [
    {
     "name": "stdout",
     "output_type": "stream",
     "text": [
      "['ape ', 'apex']\n"
     ]
    }
   ],
   "source": [
    "# findall() returns a list of matches\n",
    "# . is used to match 1 char or space\n",
    "allApes = re.findall('ape.','The ape was at the apex')\n",
    "print(allApes)"
   ]
  },
  {
   "cell_type": "code",
   "execution_count": 20,
   "id": "180a8a90",
   "metadata": {},
   "outputs": [
    {
     "name": "stdout",
     "output_type": "stream",
     "text": [
      "(4, 8)\n",
      "ape \n",
      "(19, 23)\n",
      "apex\n",
      "(4, 8)\n"
     ]
    }
   ],
   "source": [
    "import re\n",
    "# finditer returns iterator of matcing objects\n",
    "str2 = 'The ape was at the apex'\n",
    "# finditer\n",
    "for i in re.finditer('ape.',str2):\n",
    "    # returns a tuple\n",
    "    locTuple = i.span()\n",
    "    print(locTuple)\n",
    "    #slice the match out\n",
    "    print(str2[locTuple[0]:locTuple[1]])\n",
    "\n",
    "# search\n",
    "print(re.search('ape.',str2).span())"
   ]
  },
  {
   "cell_type": "code",
   "execution_count": 1,
   "id": "cdf6c467",
   "metadata": {},
   "outputs": [
    {
     "name": "stdout",
     "output_type": "stream",
     "text": [
      "1\n",
      "6\n",
      "7\n"
     ]
    }
   ],
   "source": [
    "# find between numbers: (6-8) -> 6,7\n",
    "loc = ((1,2),(6,8))\n",
    "for i in range(len(loc)):\n",
    "    for j in range(loc[i][0],loc[i][1]):\n",
    "        print(j)"
   ]
  },
  {
   "cell_type": "code",
   "execution_count": 118,
   "id": "6a12309c",
   "metadata": {},
   "outputs": [
    {
     "name": "stdout",
     "output_type": "stream",
     "text": [
      "((0, 3), (9, 12))\n",
      "*** is a *** word in our case!\n"
     ]
    }
   ],
   "source": [
    "# mute bad words in a sentence\n",
    "# idea and code by me\n",
    "import re\n",
    "str2 = 'Sex is a bad word in our case!'\n",
    "locTuple = ()\n",
    "badWord = ['sex','bad']\n",
    "for j in range(len(badWord)):\n",
    "    for i in re.finditer(badWord[j],str2,re.IGNORECASE):\n",
    "        locTuple +=  (i.span(),)\n",
    "\n",
    "print(locTuple)\n",
    "def split(word):\n",
    "    return [char for char in word]\n",
    "str2 = split(str2)\n",
    "for i in range(len(locTuple)):\n",
    "    for j in range(locTuple[i][0],locTuple[i][1]):\n",
    "        str2[j] = '*'\n",
    "\n",
    "str2 = ''.join(str2)\n",
    "print(str2)\n",
    "    "
   ]
  },
  {
   "cell_type": "code",
   "execution_count": 127,
   "id": "99d62952",
   "metadata": {},
   "outputs": [
    {
     "name": "stdout",
     "output_type": "stream",
     "text": [
      "rat\n",
      "pat\n",
      "fat\n",
      "\n",
      "*specify range\n",
      "Cat\n",
      "fat\n",
      "\n",
      "*Exclusive char\n",
      "pat\n",
      "fat\n",
      "vat\n"
     ]
    }
   ],
   "source": [
    "# match 1 of several characters\n",
    "animalStr = \"Cat rat pat fat vat\"\n",
    "allAnimals = re.findall(\"[crpf]at\",animalStr)\n",
    "for i in allAnimals:\n",
    "    print(i)\n",
    "    \n",
    "print('\\n*specify range')\n",
    "allAnimals = re.findall('[c-mC-M]at',animalStr)\n",
    "for i in allAnimals:\n",
    "    print(i)\n",
    "\n",
    "print('\\n*Exclusive char')\n",
    "allAnimals = re.findall('[^cr || CR]at',animalStr)\n",
    "for i in allAnimals:\n",
    "    print(i)"
   ]
  },
  {
   "cell_type": "code",
   "execution_count": 139,
   "id": "2eb1d42b",
   "metadata": {},
   "outputs": [
    {
     "name": "stdout",
     "output_type": "stream",
     "text": [
      "**** is a *** word in our case\n"
     ]
    }
   ],
   "source": [
    "# Replace all matches\n",
    "badSent = \"Sexy is a bad word in our case\"\n",
    "badWords = ['sexy','bad']\n",
    "for i in range(len(badWords)):\n",
    "    regex = re.compile(badWords[i],re.IGNORECASE)\n",
    "    replaceWith = len(badWords[i]) * '*'\n",
    "    sensorSent = regex.sub(replaceWith,badSent)\n",
    "    badSent = sensorSent\n",
    "print(sensorSent)"
   ]
  },
  {
   "cell_type": "code",
   "execution_count": 144,
   "id": "a5b0d201",
   "metadata": {},
   "outputs": [
    {
     "name": "stdout",
     "output_type": "stream",
     "text": [
      "Matches:  ['F.B.I.', 'I.R.S.']\n"
     ]
    }
   ],
   "source": [
    "# matching any character\n",
    "# treat dot as a regular character\n",
    "# dot is any char, \\. is just dot\n",
    "str3 = 'F.B.I. I.R.S. CIA'\n",
    "print(\"Matches: \",re.findall(\".\\..\\..\\.\",str3))"
   ]
  },
  {
   "cell_type": "code",
   "execution_count": 3,
   "id": "18b3d2c3",
   "metadata": {},
   "outputs": [
    {
     "name": "stdout",
     "output_type": "stream",
     "text": [
      "Matches:  3\n",
      "Matches:  ['3', '4', '1']\n",
      "Matches:  2\n",
      "Matches:  ['12345', '12345']\n",
      "Matches:  3\n",
      "Matches:  ['12345', '1234567', '123456']\n"
     ]
    }
   ],
   "source": [
    "# matches any single number\n",
    "import re\n",
    "randStr = 'Shaju3r What 41r Jor'\n",
    "print(\"Matches: \",len(re.findall(\"\\d\",randStr)))\n",
    "print(\"Matches: \",re.findall(\"\\d\",randStr))\n",
    "# matches 5 numbers only\n",
    "randStr = '123 12345 1234567 etc comes whne grew'\n",
    "print(\"Matches: \",len(re.findall(\"\\d{5}\",randStr)))\n",
    "print(\"Matches: \",re.findall(\"\\d{5}\",randStr))\n",
    "# matches 5 to 7 numbers\n",
    "randStr = '123 12345 1234567, 123456 etc comes whne grew'\n",
    "print(\"Matches: \",len(re.findall(\"\\d{5,7}\",randStr)))\n",
    "print(\"Matches: \",re.findall(\"\\d{5,7}\",randStr))"
   ]
  },
  {
   "cell_type": "code",
   "execution_count": 9,
   "id": "b4948ad0",
   "metadata": {},
   "outputs": [
    {
     "name": "stdout",
     "output_type": "stream",
     "text": [
      "01766601932 is a number\n"
     ]
    }
   ],
   "source": [
    "# check phone number\n",
    "import re\n",
    "number = '01766601932'\n",
    "if re.search('^(\\+)?(88)?01[0-9]{9}$',number):\n",
    "    print(\"{} is a number\".format(number))\n",
    "else:\n",
    "    print(\"{} is not a number\".format(number))"
   ]
  },
  {
   "cell_type": "code",
   "execution_count": 14,
   "id": "6d429ba2",
   "metadata": {},
   "outputs": [
    {
     "name": "stdout",
     "output_type": "stream",
     "text": [
      "match\n"
     ]
    }
   ],
   "source": [
    "# Matching WhiteSpace\n",
    "# \\s is the same as [\\f\\n\\r\\t\\v]\n",
    "# \\Sis the same as [^f\\n\\r\\t\\v]\n",
    "if re.search(\"\\w{2,20}\\s\\w{2,20}\",\"Sazzad Saju17\"):\n",
    "    print('match')"
   ]
  },
  {
   "cell_type": "code",
   "execution_count": 18,
   "id": "e28e2fe8",
   "metadata": {},
   "outputs": [
    {
     "name": "stdout",
     "output_type": "stream",
     "text": [
      "Matches:  ['a', 'a', 'a']\n",
      "Matches:  ['a', 'a', 'a', 'aa']\n",
      "Matches:  []\n"
     ]
    }
   ],
   "source": [
    "# matching one or more\n",
    "print(\"Matches: \",re.findall(\"a+\",\"a as ape bug\"))\n",
    "print(\"Matches: \",re.findall(\"a+\",\"a as alucaard bug\"))\n",
    "print(\"Matches: \",re.findall(\"a+\",\"b bs blucbbrd bug\"))"
   ]
  },
  {
   "cell_type": "code",
   "execution_count": 39,
   "id": "4ab4a86b",
   "metadata": {},
   "outputs": [
    {
     "name": "stdout",
     "output_type": "stream",
     "text": [
      "\"db@aol.com\" is an email\n",
      "\"m@.com\" is not\n",
      "\"@apple.com\" is not\n",
      "\"db@.com\" is not\n",
      "\"masud@hstu.ac.bd\" is an email\n"
     ]
    }
   ],
   "source": [
    "# check email address\n",
    "import re\n",
    "emailList = \"db@aol.com m@.com @apple.com db@.com masud@hstu.ac.bd\"\n",
    "emailList = emailList.split(' ')\n",
    "for email in emailList:\n",
    "    if re.search(\"^([a-z0-9]\\.?)+[^\\.]@[a-z0-9]+\\.([a-z0-9]\\.?)+[^\\.]$\",email):\n",
    "        print(\"\\\"{}\\\" is an email\".format(email))\n",
    "    else:\n",
    "        print(\"\\\"{}\\\" is not\".format(email))"
   ]
  },
  {
   "cell_type": "code",
   "execution_count": null,
   "id": "f5786f42",
   "metadata": {},
   "outputs": [],
   "source": []
  }
 ],
 "metadata": {
  "kernelspec": {
   "display_name": "Python 3",
   "language": "python",
   "name": "python3"
  },
  "language_info": {
   "codemirror_mode": {
    "name": "ipython",
    "version": 3
   },
   "file_extension": ".py",
   "mimetype": "text/x-python",
   "name": "python",
   "nbconvert_exporter": "python",
   "pygments_lexer": "ipython3",
   "version": "3.8.8"
  }
 },
 "nbformat": 4,
 "nbformat_minor": 5
}
