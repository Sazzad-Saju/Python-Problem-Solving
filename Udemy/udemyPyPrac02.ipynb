{
 "cells": [
  {
   "cell_type": "code",
   "execution_count": null,
   "id": "187575b0",
   "metadata": {},
   "outputs": [],
   "source": [
    "# Total Chapters Here:\n",
    "#    CHAPTER 9: PYTHON DIFFERENT MODULES\n",
    "#    CHAPTER 10: PYTHON DIRECTORY AND FILE MANAGEMENT\n",
    "#    CHAPTER 11: PYTHON DICTIONARY\n",
    "#    CHAPTER 12: PYTHON STRING"
   ]
  },
  {
   "cell_type": "code",
   "execution_count": null,
   "id": "1b2075f3",
   "metadata": {},
   "outputs": [],
   "source": [
    "#    CHAPTER 9: PYTHON DIFFERENT MODULES"
   ]
  },
  {
   "cell_type": "code",
   "execution_count": 5,
   "id": "8470ae69",
   "metadata": {},
   "outputs": [
    {
     "name": "stdout",
     "output_type": "stream",
     "text": [
      "-1.0\n"
     ]
    }
   ],
   "source": [
    "# importing module\n",
    "import math as m\n",
    "print(\"The value of pi is: \", m.pi)\n",
    "\n",
    "from math import pi\n",
    "print(\"The value of pi is: \", pi)\n",
    "\n",
    "# import all names\n",
    "from math import *\n",
    "print(cos(pi))"
   ]
  },
  {
   "cell_type": "code",
   "execution_count": null,
   "id": "cb6c3cfd",
   "metadata": {},
   "outputs": [],
   "source": [
    "#    CHAPTER 10: PYTHON DIRECTORY AND FILE MANAGEMENT"
   ]
  },
  {
   "cell_type": "code",
   "execution_count": 8,
   "id": "ad0c6b3b",
   "metadata": {},
   "outputs": [
    {
     "name": "stdout",
     "output_type": "stream",
     "text": [
      "C:\\Users\\sazza\n",
      "b'C:\\\\Users\\\\sazza'\n"
     ]
    }
   ],
   "source": [
    "# directory\n",
    "import os\n",
    "print(os.getcwd())    # current working directory\n",
    "print(os.getcwdb())   # cwd as a byte object"
   ]
  },
  {
   "cell_type": "code",
   "execution_count": 12,
   "id": "1cf7ff3d",
   "metadata": {},
   "outputs": [
    {
     "name": "stdout",
     "output_type": "stream",
     "text": [
      "['.git', 'DataCamp', 'note.txt', 'Udemy']\n",
      "C:\\Users\\sazza\\OneDrive\\Documents\\Current_Codes\\Github_Codes\\Python-Problem-Solving\n"
     ]
    }
   ],
   "source": [
    "# change directory\n",
    "os.chdir('C:\\\\Users\\\\sazza\\\\OneDrive\\\\Documents\\\\Current_Codes\\\\Github_Codes\\\\Python-Problem-Solving')\n",
    "# gets what inside\n",
    "print(os.listdir())\n",
    "print(os.getcwd())"
   ]
  },
  {
   "cell_type": "code",
   "execution_count": 14,
   "id": "d60a692f",
   "metadata": {},
   "outputs": [],
   "source": [
    "# make new directory\n",
    "os.mkdir('TestDir')\n",
    "# rename directory\n",
    "os.rename('TestDir', 'NewDir')"
   ]
  },
  {
   "cell_type": "code",
   "execution_count": 15,
   "id": "313f7532",
   "metadata": {},
   "outputs": [],
   "source": [
    "# remove file / directory\n",
    "os.remove('note.txt')\n",
    "os.rmdir('NewDir')"
   ]
  },
  {
   "cell_type": "code",
   "execution_count": null,
   "id": "8123e7e3",
   "metadata": {},
   "outputs": [],
   "source": [
    "#    CHAPTER 11: PYTHON DICTIONARY"
   ]
  },
  {
   "cell_type": "code",
   "execution_count": 25,
   "id": "26bad7ef",
   "metadata": {},
   "outputs": [
    {
     "name": "stdout",
     "output_type": "stream",
     "text": [
      "{1: 'Saju', 2: 'Shanta', 3: 'Shakia', 4: 'Sokhina'}\n",
      "Shanta\n",
      "None\n",
      "Sokhina\n",
      "Updated:  {1: 'Saju', 2: 'Shanta', 3: 'Shakia', 4: 'Shakila'}\n",
      "Add:  {1: 'Saju', 2: 'Shanta', 3: 'Shakia', 4: 'Shakila', 5: 'Shakira'}\n"
     ]
    }
   ],
   "source": [
    "# set is used to build a dictionary\n",
    "# create, access, update, add\n",
    "new_dict1 = {1: 'Saju', 2: 'Shanta', 3:'Shakia', 4: 'Sokhina'}\n",
    "print(new_dict1)\n",
    "# accessing items\n",
    "print(new_dict1[2])\n",
    "# print(new_dict1[20])    # KeyError\n",
    "print(new_dict1.get(20))  # NoError\n",
    "print(new_dict1.get(4))\n",
    "# update\n",
    "new_dict1[4] = \"Shakila\"\n",
    "print('Updated: ', new_dict1)\n",
    "# add new\n",
    "new_dict1[5] = \"Shakira\"\n",
    "print('Add: ', new_dict1)"
   ]
  },
  {
   "cell_type": "code",
   "execution_count": 32,
   "id": "20327e56",
   "metadata": {},
   "outputs": [
    {
     "name": "stdout",
     "output_type": "stream",
     "text": [
      "{1: 'Saju', 2: 'Shanta', 3: 'Shakia', 4: 'Sokhina'}\n",
      "{1: 'Saju', 2: 'Shanta', 3: 'Shakia'}\n",
      "{1: 'Saju', 2: 'Shanta'}\n",
      "{2: 'Shanta'}\n",
      "{}\n"
     ]
    }
   ],
   "source": [
    "# Removing \n",
    "new_dict2 = {1: 'Saju', 2: 'Shanta', 3:'Shakia', 4: 'Sokhina'}\n",
    "print(new_dict2)\n",
    "new_dict2.pop(4)    # 4th item\n",
    "print(new_dict2)\n",
    "new_dict2.popitem()    # last item\n",
    "print(new_dict2)\n",
    "del new_dict2[1]    # 1st item\n",
    "print(new_dict2)\n",
    "# remove all item\n",
    "new_dict2.clear()\n",
    "print(new_dict2)\n",
    "# delete the entire dictionary\n",
    "del new_dict2\n",
    "# print(new_dict2)    # NameError"
   ]
  },
  {
   "cell_type": "code",
   "execution_count": 37,
   "id": "724a1c57",
   "metadata": {},
   "outputs": [
    {
     "name": "stdout",
     "output_type": "stream",
     "text": [
      "{0: 0, 1: 1, 2: 4, 3: 9, 4: 16, 5: 25}\n",
      "True\n",
      "False\n",
      "False\n"
     ]
    }
   ],
   "source": [
    "# Creating a new dictionary using comprehension\n",
    "new_dict3 = {x: x*x for x in range (6)}\n",
    "print(new_dict3)\n",
    "print(1 in new_dict3)\n",
    "print(1 not in new_dict3)\n",
    "print(16 in new_dict3)    # as a value in key:value pair"
   ]
  },
  {
   "cell_type": "code",
   "execution_count": 42,
   "id": "339f3647",
   "metadata": {},
   "outputs": [
    {
     "name": "stdout",
     "output_type": "stream",
     "text": [
      "<class 'dict'>\n",
      "Movie\n",
      "Music\n",
      "Folk\n",
      "SciFi\n",
      "Action\n",
      "Length:  5\n",
      "[1, 2, 3, 4, 6]\n",
      "<class 'list'>\n"
     ]
    }
   ],
   "source": [
    "# iteration\n",
    "new_dict4 = {4: \"Movie\", 3: \"Music\", 2: \"Folk\", 6: \"SciFi\", 1: \"Action\"}\n",
    "print(type(new_dict4))\n",
    "for i in new_dict4: \n",
    "    print(new_dict4[i])\n",
    "print('Length: ',len(new_dict4))\n",
    "new_dict4 = sorted(new_dict4)\n",
    "print(new_dict4)\n",
    "print(type(new_dict4))"
   ]
  },
  {
   "cell_type": "code",
   "execution_count": null,
   "id": "1bbb1e08",
   "metadata": {},
   "outputs": [],
   "source": [
    "#    CHAPTER 12: PYTHON STRING"
   ]
  },
  {
   "cell_type": "code",
   "execution_count": 43,
   "id": "4944a9bb",
   "metadata": {},
   "outputs": [
    {
     "name": "stdout",
     "output_type": "stream",
     "text": [
      "Welcome\n",
      "Welcome\n",
      "Welcome\n",
      "to the world of\n",
      "programming\n"
     ]
    }
   ],
   "source": [
    "# declaration\n",
    "str1 = 'Welcome'\n",
    "print(str1)\n",
    "str1 = \"Welcome\"\n",
    "print(str1)\n",
    "str1 = '''Welcome\n",
    "to the world of\n",
    "programming'''\n",
    "print(str1)"
   ]
  },
  {
   "cell_type": "code",
   "execution_count": 48,
   "id": "2a0f2f70",
   "metadata": {},
   "outputs": [
    {
     "name": "stdout",
     "output_type": "stream",
     "text": [
      "str =  language\n",
      "str[0] =  l\n",
      "str[-1] =  e\n",
      "str[1:5] =  angu\n",
      "str[5:-2] =  a\n",
      "Python\n"
     ]
    }
   ],
   "source": [
    "# accessing \n",
    "str2 = 'language'\n",
    "print(\"str = \", str2)\n",
    "print(\"str[0] = \", str2[0])\n",
    "print(\"str[-1] = \", str2[-1])\n",
    "print(\"str[1:5] = \", str2[1:5])\n",
    "print(\"str[5:-2] = \", str2[5:-2])\n",
    "# print(str2[10])    # IndexError\n",
    "# string immutable\n",
    "str2 = \"Python\"\n",
    "print(str2)    # NoError\n",
    "# str2[2] = 'x'  #TypeError"
   ]
  },
  {
   "cell_type": "code",
   "execution_count": 52,
   "id": "70aed1f8",
   "metadata": {},
   "outputs": [
    {
     "name": "stdout",
     "output_type": "stream",
     "text": [
      "Welcome to all\n",
      "str * 3 =  Welcome Welcome Welcome \n"
     ]
    }
   ],
   "source": [
    "# string concatenation\n",
    "str3 = \"Welcome \"\n",
    "str4 = \"to all\"\n",
    "print(str3+str4)\n",
    "print('str * 3 = ', str3*3)"
   ]
  },
  {
   "cell_type": "code",
   "execution_count": 53,
   "id": "c77ce72f",
   "metadata": {},
   "outputs": [
    {
     "name": "stdout",
     "output_type": "stream",
     "text": [
      "Counter({'l': 3, 'o': 2, 'H': 1, 'e': 1, ' ': 1, 'W': 1, 'r': 1, 'd': 1})\n",
      "Count of  H  is 1\n",
      "Count of  e  is 1\n",
      "Count of  l  is 3\n",
      "Count of  o  is 2\n",
      "Count of     is 1\n",
      "Count of  W  is 1\n",
      "Count of  r  is 1\n",
      "Count of  d  is 1\n"
     ]
    }
   ],
   "source": [
    "# Frequency in string\n",
    "from collections import Counter\n",
    "str5 = 'Hello World'\n",
    "count = Counter(str5)\n",
    "print(count)\n",
    "for letters in count:\n",
    "    print('Count of ', letters, \" is\", count[letters])"
   ]
  },
  {
   "cell_type": "code",
   "execution_count": 54,
   "id": "61aa5d4b",
   "metadata": {},
   "outputs": [
    {
     "name": "stdout",
     "output_type": "stream",
     "text": [
      "[(0, 'U'), (1, 'n'), (2, 'i'), (3, 'v'), (4, 'e'), (5, 'r'), (6, 's'), (7, 'i'), (8, 't'), (9, 'y')]\n"
     ]
    }
   ],
   "source": [
    "# list of tuples from string\n",
    "str6 = \"University\"\n",
    "str6_enu = list(enumerate(str6))\n",
    "print(str6_enu)"
   ]
  },
  {
   "cell_type": "code",
   "execution_count": 60,
   "id": "f3a7afe2",
   "metadata": {},
   "outputs": [
    {
     "name": "stdout",
     "output_type": "stream",
     "text": [
      "He asked, \"Where I'm living?\"\n",
      "He asked, \"Where I'm living?\n",
      "He asked, \"Where I'm living?\n",
      "HEX A B C \n",
      "NewLine\tTAB\n"
     ]
    }
   ],
   "source": [
    "# escape sequence\n",
    "print('''He asked, \"Where I'm living?\"''')\n",
    "print('He asked, \"Where I\\'m living?')\n",
    "print(\"He asked, \\\"Where I'm living?\")\n",
    "\n",
    "print(\"HEX \\x41 \\x42 \\x43 \\nNewLine\\tTAB\")"
   ]
  },
  {
   "cell_type": "code",
   "execution_count": 62,
   "id": "edcff141",
   "metadata": {},
   "outputs": [
    {
     "name": "stdout",
     "output_type": "stream",
     "text": [
      "Today is Sunday\n",
      "Today is Sunday\n",
      "Today is Sunday\n"
     ]
    }
   ],
   "source": [
    "# Format method\n",
    "print(\"{} is {}\".format('Today', 'Sunday'))\n",
    "# positional arg\n",
    "print(\"{1} is {0}\".format('Sunday', 'Today'))\n",
    "print(\"{when} is {day}\".format(when = \"Today\", day = \"Sunday\"))"
   ]
  },
  {
   "cell_type": "code",
   "execution_count": 65,
   "id": "4a2a78a2",
   "metadata": {},
   "outputs": [
    {
     "name": "stdout",
     "output_type": "stream",
     "text": [
      "Binary representation of 20 is 10100\n",
      "Exponential representation 1.566345e+03\n",
      "One third is: 0.333\n"
     ]
    }
   ],
   "source": [
    "# Formatting into binary\n",
    "print(\"Binary representation of {0} is {0:b}\".format(20))\n",
    "# formatting into float\n",
    "print(\"Exponential representation {0:e}\".format(1566.345))\n",
    "# round off\n",
    "print(\"One third is: {0:.3f}\".format(1/3))"
   ]
  },
  {
   "cell_type": "code",
   "execution_count": 68,
   "id": "b7740032",
   "metadata": {},
   "outputs": [
    {
     "name": "stdout",
     "output_type": "stream",
     "text": [
      "good morning to all\n",
      "GOOD MORNING TO ALL\n",
      "13\n",
      "-1\n",
      "Good Morning to Everybody\n"
     ]
    }
   ],
   "source": [
    "# String methods\n",
    "print(\"Good Morning to All\".lower())\n",
    "print(\"Good Morning to All\".upper())\n",
    "print(\"Good Morning to All\"\\\n",
    "     .find('to'))\n",
    "print(\"Good Morning to All\".find('Everybody'))\n",
    "print(\"Good Morning to All\".replace('All', 'Everybody'))"
   ]
  },
  {
   "cell_type": "code",
   "execution_count": null,
   "id": "d2062e88",
   "metadata": {},
   "outputs": [],
   "source": []
  }
 ],
 "metadata": {
  "kernelspec": {
   "display_name": "Python 3",
   "language": "python",
   "name": "python3"
  },
  "language_info": {
   "codemirror_mode": {
    "name": "ipython",
    "version": 3
   },
   "file_extension": ".py",
   "mimetype": "text/x-python",
   "name": "python",
   "nbconvert_exporter": "python",
   "pygments_lexer": "ipython3",
   "version": "3.8.8"
  }
 },
 "nbformat": 4,
 "nbformat_minor": 5
}
