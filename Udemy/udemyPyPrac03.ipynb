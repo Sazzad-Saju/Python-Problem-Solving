{
 "cells": [
  {
   "cell_type": "code",
   "execution_count": null,
   "id": "21ff68e5",
   "metadata": {},
   "outputs": [],
   "source": [
    "# Total Chapters Here:\n",
    "#    CHAPTER 13: TYPE CONVERSION\n",
    "#    CHAPTER 14: PYTHON NUMBERS\n",
    "#    CHAPTER 15: PYTHON NAMESPACE AND SCOPE\n",
    "#    CHAPTER 16: PYTHON GLOBAL, LOCAL, NONLOCAL VARIABLE\n",
    "#    CHAPTER 17: ITERATOR\n",
    "#    CHAPTER 18: INHERITANCE\n",
    "#    CHAPTER 19: MULTIPLE INHERITANCE\n",
    "#    CHAPTER 20: PYTHON FUNCTION ARGUMENTS\n",
    "#    CHAPTER 21: PYTHON FUNCTION"
   ]
  },
  {
   "cell_type": "code",
   "execution_count": null,
   "id": "3e556b5e",
   "metadata": {},
   "outputs": [],
   "source": [
    "#    CHAPTER 13: TYPE CONVERSION"
   ]
  },
  {
   "cell_type": "code",
   "execution_count": 1,
   "id": "8c60a527",
   "metadata": {},
   "outputs": [
    {
     "name": "stdout",
     "output_type": "stream",
     "text": [
      "type of 123 is <class 'int'>\n",
      "type of 1.75 is <class 'float'>\n",
      "type of 124.75 is <class 'float'>\n"
     ]
    }
   ],
   "source": [
    "# type\n",
    "num_int = 123\n",
    "num_flo = 1.75\n",
    "num_new = num_int + num_flo\n",
    "print('type of {} is {}'.format(num_int,type(num_int)))\n",
    "print('type of {} is {}'.format(num_flo,type(num_flo)))\n",
    "print('type of {} is {}'.format(num_new,type(num_new)))"
   ]
  },
  {
   "cell_type": "code",
   "execution_count": 3,
   "id": "136ee957",
   "metadata": {},
   "outputs": [
    {
     "name": "stdout",
     "output_type": "stream",
     "text": [
      "123 + 456 = 579\n"
     ]
    }
   ],
   "source": [
    "# Explicit type casting\n",
    "num_int = 123\n",
    "num_str = \"456\"\n",
    "# num_sum = num_int + num_str   #TypeError\n",
    "num_sum = num_int + int(num_str)\n",
    "print('{} + {} = {}'.format(num_int,num_str, num_sum))"
   ]
  },
  {
   "cell_type": "code",
   "execution_count": null,
   "id": "d375876d",
   "metadata": {},
   "outputs": [],
   "source": [
    "#    CHAPTER 14: PYTHON NUMBERS"
   ]
  },
  {
   "cell_type": "code",
   "execution_count": 4,
   "id": "ee62e487",
   "metadata": {},
   "outputs": [
    {
     "name": "stdout",
     "output_type": "stream",
     "text": [
      "<class 'complex'>\n",
      "False\n",
      "False\n",
      "True\n"
     ]
    }
   ],
   "source": [
    "# number type\n",
    "value1 = 50 + 6j\n",
    "print(type(value1))\n",
    "print(isinstance(value1,int))\n",
    "print(isinstance(value1,float))\n",
    "print(isinstance(value1,complex))"
   ]
  },
  {
   "cell_type": "code",
   "execution_count": 5,
   "id": "eff7c098",
   "metadata": {},
   "outputs": [
    {
     "name": "stdout",
     "output_type": "stream",
     "text": [
      "13\n",
      "171\n",
      "19\n"
     ]
    }
   ],
   "source": [
    "# different types\n",
    "print(0b1101)   #bin\n",
    "print(0xab)     #hex\n",
    "print(0o23)     #oct"
   ]
  },
  {
   "cell_type": "code",
   "execution_count": 4,
   "id": "8a118746",
   "metadata": {},
   "outputs": [
    {
     "name": "stdout",
     "output_type": "stream",
     "text": [
      "-20\n",
      "20.0\n",
      "43.4\n"
     ]
    }
   ],
   "source": [
    "# type cast\n",
    "print(int(-20.99))\n",
    "print(float(20))\n",
    "# auto cast\n",
    "print(10+33.4)"
   ]
  },
  {
   "cell_type": "code",
   "execution_count": 9,
   "id": "7cf5bd99",
   "metadata": {},
   "outputs": [
    {
     "name": "stdout",
     "output_type": "stream",
     "text": [
      "0.30000000000000004\n",
      "2.8625\n",
      "0.3\n",
      "2.8625\n"
     ]
    }
   ],
   "source": [
    "# Decimal\n",
    "data1 = 0.1 + 0.2 \n",
    "print(data1)\n",
    "data2 = 1.25 * 2.29\n",
    "print(data2)\n",
    "from decimal import Decimal as D\n",
    "print(D('0.1') + D('0.2'))\n",
    "print(D('1.25') * D('2.29'))\n"
   ]
  },
  {
   "cell_type": "code",
   "execution_count": 23,
   "id": "07fcf73f",
   "metadata": {},
   "outputs": [
    {
     "name": "stdout",
     "output_type": "stream",
     "text": [
      "3/2\n",
      "1/2\n",
      "7077085128725065/2251799813685248\n",
      "3.142857142857143\n"
     ]
    }
   ],
   "source": [
    "from fractions import Fraction as F\n",
    "print(F(1.5))\n",
    "print(F(0.5))\n",
    "print(F(3.142857142857143))\n",
    "print(22/7)"
   ]
  },
  {
   "cell_type": "code",
   "execution_count": 24,
   "id": "e26a7d0d",
   "metadata": {},
   "outputs": [
    {
     "name": "stdout",
     "output_type": "stream",
     "text": [
      "3.141592653589793\n",
      "-0.9524129804151563\n",
      "2.302585092994046\n",
      "1.0\n",
      "22026.465794806718\n",
      "2.718281828459045\n",
      "120\n",
      "5343237290762.231\n",
      "12.34\n"
     ]
    }
   ],
   "source": [
    "import math\n",
    "print(math.pi)\n",
    "print(math.cos(60))\n",
    "print(math.log(10))\n",
    "print(math.log10(10))\n",
    "print(math.exp(10))\n",
    "print(math.exp(1))\n",
    "print(math.factorial(5))\n",
    "print(math.sinh(30))\n",
    "print(abs(-12.34))"
   ]
  },
  {
   "cell_type": "code",
   "execution_count": 40,
   "id": "3433c800",
   "metadata": {},
   "outputs": [
    {
     "name": "stdout",
     "output_type": "stream",
     "text": [
      "Random number ->  9\n",
      "Random number ->  13\n",
      "Random number ->  13\n",
      "Sun\n",
      "['Sun', 'Mon', 'Tue', 'Wed', 'Thu', 'Fri', 'Sat']\n",
      "['Sun', 'Thu', 'Sat', 'Tue', 'Fri', 'Mon', 'Wed']\n",
      "0.7635815473941311\n"
     ]
    }
   ],
   "source": [
    "# random module\n",
    "import random\n",
    "print('Random number -> ',random.randrange(5,15))\n",
    "print('Random number -> ', random.randrange(15))\n",
    "print('Random number -> ', random.randrange(8,15))\n",
    "\n",
    "day = ['Sun', 'Mon', 'Tue', 'Wed', 'Thu', 'Fri', 'Sat']\n",
    "print(random.choice(day))\n",
    "\n",
    "print(day)\n",
    "random.shuffle(day)\n",
    "print(day)\n",
    "\n",
    "print(random.random())"
   ]
  },
  {
   "cell_type": "code",
   "execution_count": null,
   "id": "f195b0b7",
   "metadata": {},
   "outputs": [],
   "source": [
    "#    CHAPTER 15: PYTHON NAMESPACE AND SCOPE"
   ]
  },
  {
   "cell_type": "code",
   "execution_count": 7,
   "id": "255ccf74",
   "metadata": {},
   "outputs": [
    {
     "name": "stdout",
     "output_type": "stream",
     "text": [
      "id(2) =  140712426547024\n",
      "id(a) =  140712426547024\n",
      "a = a+1 = 3\n",
      "id(a) =  140712426547056\n",
      "id(3) =  140712426547056\n",
      "b = 2\n",
      "id(b) =  140712426547024\n"
     ]
    }
   ],
   "source": [
    "# id\n",
    "a = 2\n",
    "print('id(2) = ', id(2))\n",
    "print('id(a) = ', id(a))\n",
    "a = a+1\n",
    "print('a = a+1 = 3')\n",
    "print('id(a) = ', id(a))\n",
    "print('id(3) = ', id(3))\n",
    "b = 2\n",
    "print('b = 2')\n",
    "print('id(b) = ', id(b))"
   ]
  },
  {
   "cell_type": "code",
   "execution_count": 9,
   "id": "07fda06e",
   "metadata": {},
   "outputs": [
    {
     "name": "stdout",
     "output_type": "stream",
     "text": [
      "a =  10\n",
      "a =  30\n",
      "a =  30\n",
      "a =  30\n"
     ]
    }
   ],
   "source": [
    "# scope\n",
    "def outer_fun():\n",
    "    global a\n",
    "    a = 20\n",
    "    def inner_fun():\n",
    "        global a\n",
    "        a = 30\n",
    "        print('a = ', a)\n",
    "    inner_fun()\n",
    "    print('a = ', a)\n",
    "\n",
    "a = 10\n",
    "print('a = ', a)\n",
    "outer_fun()\n",
    "print('a = ', a)"
   ]
  },
  {
   "cell_type": "code",
   "execution_count": null,
   "id": "a786d68b",
   "metadata": {},
   "outputs": [],
   "source": [
    "#    CHAPTER 16: PYTHON GLOBAL, LOCAL, NONLOCAL VARIABLE"
   ]
  },
  {
   "cell_type": "code",
   "execution_count": 23,
   "id": "2190ed71",
   "metadata": {},
   "outputs": [
    {
     "name": "stdout",
     "output_type": "stream",
     "text": [
      "inner:  nonlocal\n",
      "outer:  nonlocal\n"
     ]
    }
   ],
   "source": [
    "# Non-local variable\n",
    "def outer():\n",
    "    x = \"local\"\n",
    "    def inner():\n",
    "        nonlocal x\n",
    "        x = \"nonlocal\"\n",
    "        print(\"inner: \",x)\n",
    "    inner()\n",
    "    print(\"outer: \",x)\n",
    "\n",
    "outer()"
   ]
  },
  {
   "cell_type": "code",
   "execution_count": 28,
   "id": "5869faec",
   "metadata": {},
   "outputs": [
    {
     "name": "stdout",
     "output_type": "stream",
     "text": [
      "Before calling fun2:  20\n",
      "Calling fun2\n",
      "After calling fun2:  20\n",
      "x in main:  25\n"
     ]
    }
   ],
   "source": [
    "# global\n",
    "def fun1():\n",
    "    x = 20\n",
    "    def fun2():\n",
    "        global x    # here x should be nonlocal to change\n",
    "        x = 25\n",
    "    print(\"Before calling fun2: \",x)    \n",
    "    print(\"Calling fun2\")\n",
    "    fun2()\n",
    "    print(\"After calling fun2: \",x)\n",
    "fun1()\n",
    "print(\"x in main: \",x)"
   ]
  },
  {
   "cell_type": "code",
   "execution_count": null,
   "id": "659ac5cf",
   "metadata": {},
   "outputs": [],
   "source": [
    "#    CHAPTER 17: ITERATOR"
   ]
  },
  {
   "cell_type": "code",
   "execution_count": 34,
   "id": "6a0d0619",
   "metadata": {},
   "outputs": [
    {
     "name": "stdout",
     "output_type": "stream",
     "text": [
      "44\n",
      "77\n",
      "23\n",
      "21\n",
      "98\n"
     ]
    }
   ],
   "source": [
    "# iterator\n",
    "myList = [44,77,23,21,98]\n",
    "myIter = iter(myList)    # Make list iterable\n",
    "print(next(myIter))\n",
    "print(myIter.__next__())\n",
    "print(next(myIter))\n",
    "print(myIter.__next__())\n",
    "print(next(myIter))\n",
    "# print(next(myIter)) #StopIteration error"
   ]
  },
  {
   "cell_type": "code",
   "execution_count": 2,
   "id": "793b33a9",
   "metadata": {},
   "outputs": [
    {
     "name": "stdout",
     "output_type": "stream",
     "text": [
      "1\n",
      "2\n",
      "4\n",
      "8\n",
      "16\n"
     ]
    }
   ],
   "source": [
    "# custom iterator: Power of Two upto limit\n",
    "class powOfTwo:\n",
    "    def __init__(self,max=0):\n",
    "        self.max = max\n",
    "    def __iter__(self):\n",
    "        self.n = 0\n",
    "        self.maxResult = 0\n",
    "        return self\n",
    "    def __next__(self):\n",
    "        if self.maxResult <= self.max:\n",
    "            result = 2 ** self.n\n",
    "            self.maxResult += result\n",
    "            self.n += 1\n",
    "            return result\n",
    "        else:\n",
    "            raise StopIteration\n",
    "\n",
    "a = powOfTwo(20)\n",
    "i = iter(a)\n",
    "print(next(i))\n",
    "print(next(i))\n",
    "print(next(i))\n",
    "print(next(i))\n",
    "print(next(i))\n",
    "# print(next(i))  # StopIteration error when max = 20"
   ]
  },
  {
   "cell_type": "code",
   "execution_count": 62,
   "id": "eaaed608",
   "metadata": {},
   "outputs": [
    {
     "name": "stdout",
     "output_type": "stream",
     "text": [
      "1\n",
      "3\n",
      "5\n",
      "7\n"
     ]
    }
   ],
   "source": [
    "# addition infinite iteration\n",
    "class licl:    \n",
    "    def __iter__(self):\n",
    "        self.n = 1\n",
    "        return self\n",
    "    def __next__(self):\n",
    "        n = self.n\n",
    "        self.n += 2\n",
    "        return n\n",
    "\n",
    "i = licl()\n",
    "a = iter(i)\n",
    "print(next(a))\n",
    "print(next(a))\n",
    "print(next(a))\n",
    "print(next(a))"
   ]
  },
  {
   "cell_type": "code",
   "execution_count": 4,
   "id": "43b36a74",
   "metadata": {},
   "outputs": [
    {
     "name": "stdout",
     "output_type": "stream",
     "text": [
      "1 is shown\n",
      "3 is shown\n",
      "5 is shown\n",
      "7 is shown\n",
      "9 is shown\n"
     ]
    }
   ],
   "source": [
    "# end keyword\n",
    "a = [1,3,5,7,9]\n",
    "for i in a:\n",
    "    print(i, end=\" \")\n",
    "    print(\"is shown\")"
   ]
  },
  {
   "cell_type": "code",
   "execution_count": null,
   "id": "287fd67f",
   "metadata": {},
   "outputs": [],
   "source": [
    "#    CHAPTER 18: INHERITANCE"
   ]
  },
  {
   "cell_type": "code",
   "execution_count": 43,
   "id": "6037ae43",
   "metadata": {},
   "outputs": [
    {
     "name": "stdout",
     "output_type": "stream",
     "text": [
      "Person1: \n",
      "Name: Shanta Jannat \n",
      "Age: 26\n",
      "\n",
      "Student1: \n",
      "Name: Sazzad Saju \n",
      "Age: 27\n",
      "Dept:  CSE\n",
      "ID:  1602049\n"
     ]
    }
   ],
   "source": [
    "# Inheritance\n",
    "class Person:\n",
    "    def __init__(self, first_name, last_name, age):\n",
    "        self.first_name = first_name\n",
    "        self.last_name = last_name\n",
    "        self.age = age\n",
    "    def about(self):\n",
    "        print(\"Name: {0} {1} \\nAge: {2}\".format(self.first_name, self.last_name, self.age))\n",
    "\n",
    "class Student(Person):\n",
    "    def __init__(self,first_name, last_name, age, dept, sid):\n",
    "        super().__init__(first_name, last_name, age)\n",
    "        self.dept = dept\n",
    "        self.sid = sid\n",
    "        \n",
    "    def profile(self):\n",
    "        super().about()\n",
    "        print(\"Dept: \", self.dept)\n",
    "        print(\"ID: \", self.sid)\n",
    "\n",
    "print(\"Person1: \")\n",
    "p1 = Person(\"Shanta\", \"Jannat\", 26)\n",
    "p1.about()\n",
    "print(\"\\nStudent1: \")\n",
    "stnt1 = Student(\"Sazzad\", \"Saju\", 27, \"CSE\", 1602049)\n",
    "stnt1.profile()"
   ]
  },
  {
   "cell_type": "code",
   "execution_count": 31,
   "id": "6004b4bb",
   "metadata": {},
   "outputs": [
    {
     "name": "stdout",
     "output_type": "stream",
     "text": [
      "Name: Sazzad Saju \n",
      "Age: 27\n",
      "Dept:  CSE\n",
      "ID:  1602049\n"
     ]
    }
   ],
   "source": [
    "# class\n",
    "class Student:\n",
    "    def __init__(self,first_name, last_name,age,dept, sid):\n",
    "        self.first_name = first_name\n",
    "        self.last_name = last_name\n",
    "        self.age = age\n",
    "        self.dept = dept\n",
    "        self.sid = sid\n",
    "        \n",
    "    def profile(self):\n",
    "        print(\"Name: {0} {1} \\nAge: {2}\".format(self.first_name, self.last_name, self.age))\n",
    "        print(\"Dept: \", self.dept)\n",
    "        print(\"ID: \", self.sid)\n",
    "\n",
    "stnt1 = Student(\"Sazzad\",\"Saju\",27, \"CSE\", 1602049)\n",
    "stnt1.profile()"
   ]
  },
  {
   "cell_type": "code",
   "execution_count": 44,
   "id": "f0b477c4",
   "metadata": {},
   "outputs": [
    {
     "name": "stdout",
     "output_type": "stream",
     "text": [
      "Parrot can fly\n",
      "Parrot can't swim\n",
      "\n",
      "Penguin can't fly\n",
      "Penguin can swim\n"
     ]
    }
   ],
   "source": [
    "#  polymorphism\n",
    "class Parrot:\n",
    "    def canFly(self):\n",
    "        print(\"Parrot can fly\")\n",
    "    def canSwim(self):\n",
    "        print(\"Parrot can't swim\")\n",
    "\n",
    "class Penguin:\n",
    "    def canFly(self):\n",
    "        print(\"Penguin can't fly\")\n",
    "    def canSwim(self):\n",
    "        print(\"Penguin can swim\")\n",
    "\n",
    "# COMMON INTERFACE\n",
    "def flyingTest(bird):\n",
    "    bird.canFly()\n",
    "    bird.canSwim()\n",
    "    \n",
    "bird_parrot = Parrot()\n",
    "bird_penguin = Penguin()\n",
    "\n",
    "flyingTest(bird_parrot)\n",
    "print()\n",
    "flyingTest(bird_penguin)\n"
   ]
  },
  {
   "cell_type": "code",
   "execution_count": null,
   "id": "a3db6b9c",
   "metadata": {},
   "outputs": [],
   "source": [
    "#    CHAPTER 19: MULTIPLE INHERITANCE"
   ]
  },
  {
   "cell_type": "code",
   "execution_count": 3,
   "id": "0b43fdca",
   "metadata": {},
   "outputs": [
    {
     "name": "stdout",
     "output_type": "stream",
     "text": [
      "Name: Sazzad Saju \n",
      "Age: 27\n",
      "Dept:  CSE\n",
      "ID:  1602049\n",
      "Sector:  Web development\n",
      "Proficiency:  JavaScript\n",
      "\n",
      "Name: Shanta Jannat \n",
      "Age: 26\n",
      "Dept:  Medi\n",
      "ID:  150207\n",
      "\n",
      "Name: Kutub Ali \n",
      "Age: 65\n"
     ]
    }
   ],
   "source": [
    "# Person and Student are different classes\n",
    "# Coder inherit from Student and Person (Multiple Inheritance)\n",
    "# by Sazzad Saju\n",
    "class Person:                   \n",
    "    def __init__(self, first_name, last_name, age): \n",
    "        self.first_name = first_name\n",
    "        self.last_name = last_name\n",
    "        self.age = age\n",
    "    def about(self):\n",
    "        print(\"Name: {0} {1} \\nAge: {2}\".format(self.first_name, self.last_name, self.age))\n",
    "        \n",
    "# class Student(Person): #error\n",
    "class Student:                 \n",
    "    def __init__(self,first_name, last_name, age, dept, sid):\n",
    "        self.dept = dept\n",
    "        self.sid = sid\n",
    "        Person.__init__(self,first_name, last_name, age)\n",
    "    def profile(self):\n",
    "        Person.about(self)\n",
    "        print(\"Dept: \", self.dept)\n",
    "        print(\"ID: \", self.sid)\n",
    "        \n",
    "class Coder(Person, Student):         \n",
    "    def __init__(self, first_name, last_name, age, dept, sid, sector, profi): \n",
    "        self.sector = sector\n",
    "        self.profi = profi\n",
    "        Person.__init__(self, first_name, last_name, age) \n",
    "        Student.__init__(self,first_name, last_name, age, dept, sid)\n",
    "    def info(self):\n",
    "        Student.profile(self)\n",
    "        print(\"Sector: \", self.sector)\n",
    "        print(\"Proficiency: \", self.profi)\n",
    "        \n",
    "cr1 = Coder('Sazzad', 'Saju', 27, \"CSE\", 1602049, \"Web development\", \"JavaScript\")\n",
    "cr1.info()\n",
    "print()\n",
    "st1 = Student('Shanta', 'Jannat', 26, \"Medi\", 150207)\n",
    "st1.profile()\n",
    "print()\n",
    "pn1 = Person('Kutub', 'Ali', 65)\n",
    "pn1.about()"
   ]
  },
  {
   "cell_type": "code",
   "execution_count": null,
   "id": "9a3f864e",
   "metadata": {},
   "outputs": [],
   "source": [
    "# Another Multiple Inheritance \n",
    "# Coder inherit from Student where Student was inherited from Person hence-\n",
    "# So Coder is inherited from both (Multiple Inheritance)\n",
    "class Person:                   \n",
    "    def __init__(self, first_name, last_name, age): \n",
    "        self.first_name = first_name\n",
    "        self.last_name = last_name\n",
    "        self.age = age\n",
    "    def about(self):\n",
    "        print(\"Name: {0} {1} \\nAge: {2}\".format(self.first_name, self.last_name, self.age))\n",
    "        \n",
    "class Student(Person):                 \n",
    "    def __init__(self,first_name, last_name, age, dept, sid):\n",
    "        self.dept = dept\n",
    "        self.sid = sid\n",
    "        Person.__init__(self,first_name, last_name, age)\n",
    "    def profile(self):\n",
    "        Person.about(self)\n",
    "        print(\"Dept: \", self.dept)\n",
    "        print(\"ID: \", self.sid)\n",
    "        \n",
    "class Coder(Student):         \n",
    "    def __init__(self, first_name, last_name, age, dept, sid, sector, profi): \n",
    "        self.sector = sector\n",
    "        self.profi = profi\n",
    "        Student.__init__(self,first_name, last_name, age, dept, sid)\n",
    "    def info(self):\n",
    "        Student.profile(self)\n",
    "        print(\"Sector: \", self.sector)\n",
    "        print(\"Proficiency: \", self.profi)\n",
    "        \n",
    "cr1 = Coder('Sazzad', 'Saju', 27, \"CSE\", 1602049, \"Web development\", \"JavaScript\")\n",
    "cr1.info()\n",
    "print()\n",
    "st1 = Student('Shanta', 'Jannat', 26, \"Medi\", 150207)\n",
    "st1.profile()\n",
    "print()\n",
    "pn1 = Person('Kutub', 'Ali', 65)\n",
    "pn1.about()"
   ]
  },
  {
   "cell_type": "code",
   "execution_count": null,
   "id": "7da7e8ce",
   "metadata": {},
   "outputs": [],
   "source": [
    "#    CHAPTER 20: PYTHON FUNCTION ARGUMENTS"
   ]
  },
  {
   "cell_type": "code",
   "execution_count": 4,
   "id": "25431e4f",
   "metadata": {},
   "outputs": [
    {
     "name": "stdout",
     "output_type": "stream",
     "text": [
      "Hello  Shanta , long time no see!\n",
      "Hello  Anamika , how are you?\n"
     ]
    }
   ],
   "source": [
    "# function default arg\n",
    "def greeting(name, msg = \", how are you?\"):\n",
    "    print(\"Hello \", name, msg)\n",
    "\n",
    "greeting(\"Shanta\", \", long time no see!\")\n",
    "greeting(\"Anamika\")"
   ]
  },
  {
   "cell_type": "code",
   "execution_count": 5,
   "id": "440e3052",
   "metadata": {},
   "outputs": [
    {
     "name": "stdout",
     "output_type": "stream",
     "text": [
      "Sum:  15\n"
     ]
    }
   ],
   "source": [
    "# function arbitrary arg\n",
    "def countNum(*args):\n",
    "    sum = 0\n",
    "    for i in args:\n",
    "        sum += i\n",
    "    return sum\n",
    "\n",
    "print(\"Sum: \", countNum(1,2,3,4,5))"
   ]
  },
  {
   "cell_type": "code",
   "execution_count": null,
   "id": "7e8bafff",
   "metadata": {},
   "outputs": [],
   "source": [
    "#    CHAPTER 21: PYTHON FUNCTION"
   ]
  },
  {
   "cell_type": "code",
   "execution_count": null,
   "id": "8a6e8990",
   "metadata": {},
   "outputs": [],
   "source": [
    "# doc string\n",
    "def docString():\n",
    "    '''Document string\n",
    "    to describe things'''\n",
    "    \n",
    "    return \"Helo World\"\n",
    "\n",
    "print(docString.__doc__)"
   ]
  },
  {
   "cell_type": "code",
   "execution_count": 12,
   "id": "36afca32",
   "metadata": {},
   "outputs": [
    {
     "name": "stdout",
     "output_type": "stream",
     "text": [
      "Main Menu\n",
      "1 > Addition\n",
      "2 > Substraction\n",
      "3 > Multiplication\n",
      "4 > Division\n",
      "Please enter your option number: 4\n",
      "Please enter the first number: 4\n",
      "Plase enter the second number: 0\n"
     ]
    },
    {
     "ename": "ZeroDivisionError",
     "evalue": "Can't divide by zero",
     "output_type": "error",
     "traceback": [
      "\u001b[1;31m---------------------------------------------------------------------------\u001b[0m",
      "\u001b[1;31mZeroDivisionError\u001b[0m                         Traceback (most recent call last)",
      "\u001b[1;32m<ipython-input-12-aced46c1ae63>\u001b[0m in \u001b[0;36m<module>\u001b[1;34m\u001b[0m\n\u001b[0;32m     39\u001b[0m     \u001b[0mprint\u001b[0m\u001b[1;33m(\u001b[0m\u001b[1;34m\"So result: \"\u001b[0m\u001b[1;33m,\u001b[0m \u001b[0mresult\u001b[0m\u001b[1;33m)\u001b[0m\u001b[1;33m\u001b[0m\u001b[1;33m\u001b[0m\u001b[0m\n\u001b[0;32m     40\u001b[0m \u001b[1;33m\u001b[0m\u001b[0m\n\u001b[1;32m---> 41\u001b[1;33m \u001b[0mcalculation\u001b[0m\u001b[1;33m(\u001b[0m\u001b[1;33m)\u001b[0m\u001b[1;33m\u001b[0m\u001b[1;33m\u001b[0m\u001b[0m\n\u001b[0m",
      "\u001b[1;32m<ipython-input-12-aced46c1ae63>\u001b[0m in \u001b[0;36mcalculation\u001b[1;34m()\u001b[0m\n\u001b[0;32m     36\u001b[0m         \u001b[0mresult\u001b[0m \u001b[1;33m=\u001b[0m \u001b[0mmyMultiplication\u001b[0m\u001b[1;33m(\u001b[0m\u001b[0mnum1\u001b[0m\u001b[1;33m,\u001b[0m\u001b[0mnum2\u001b[0m\u001b[1;33m)\u001b[0m\u001b[1;33m\u001b[0m\u001b[1;33m\u001b[0m\u001b[0m\n\u001b[0;32m     37\u001b[0m     \u001b[1;32melif\u001b[0m \u001b[0mch\u001b[0m \u001b[1;33m==\u001b[0m \u001b[1;36m4\u001b[0m\u001b[1;33m:\u001b[0m\u001b[1;33m\u001b[0m\u001b[1;33m\u001b[0m\u001b[0m\n\u001b[1;32m---> 38\u001b[1;33m         \u001b[0mresult\u001b[0m \u001b[1;33m=\u001b[0m \u001b[0mmyDivision\u001b[0m\u001b[1;33m(\u001b[0m\u001b[0mnum1\u001b[0m\u001b[1;33m,\u001b[0m\u001b[0mnum2\u001b[0m\u001b[1;33m)\u001b[0m\u001b[1;33m\u001b[0m\u001b[1;33m\u001b[0m\u001b[0m\n\u001b[0m\u001b[0;32m     39\u001b[0m     \u001b[0mprint\u001b[0m\u001b[1;33m(\u001b[0m\u001b[1;34m\"So result: \"\u001b[0m\u001b[1;33m,\u001b[0m \u001b[0mresult\u001b[0m\u001b[1;33m)\u001b[0m\u001b[1;33m\u001b[0m\u001b[1;33m\u001b[0m\u001b[0m\n\u001b[0;32m     40\u001b[0m \u001b[1;33m\u001b[0m\u001b[0m\n",
      "\u001b[1;32m<ipython-input-12-aced46c1ae63>\u001b[0m in \u001b[0;36mmyDivision\u001b[1;34m(x, y)\u001b[0m\n\u001b[0;32m     13\u001b[0m \u001b[1;32mdef\u001b[0m \u001b[0mmyDivision\u001b[0m\u001b[1;33m(\u001b[0m\u001b[0mx\u001b[0m\u001b[1;33m,\u001b[0m\u001b[0my\u001b[0m\u001b[1;33m)\u001b[0m\u001b[1;33m:\u001b[0m\u001b[1;33m\u001b[0m\u001b[1;33m\u001b[0m\u001b[0m\n\u001b[0;32m     14\u001b[0m     \u001b[1;32mif\u001b[0m \u001b[0my\u001b[0m\u001b[1;33m==\u001b[0m\u001b[1;36m0\u001b[0m\u001b[1;33m:\u001b[0m\u001b[1;33m\u001b[0m\u001b[1;33m\u001b[0m\u001b[0m\n\u001b[1;32m---> 15\u001b[1;33m         \u001b[1;32mraise\u001b[0m \u001b[0mZeroDivisionError\u001b[0m\u001b[1;33m(\u001b[0m\u001b[1;34m\"Can't divide by zero\"\u001b[0m\u001b[1;33m)\u001b[0m\u001b[1;33m\u001b[0m\u001b[1;33m\u001b[0m\u001b[0m\n\u001b[0m\u001b[0;32m     16\u001b[0m     \u001b[0mprint\u001b[0m\u001b[1;33m(\u001b[0m\u001b[1;34m\"{} / {} = {}\"\u001b[0m\u001b[1;33m.\u001b[0m\u001b[0mformat\u001b[0m\u001b[1;33m(\u001b[0m\u001b[0mx\u001b[0m\u001b[1;33m,\u001b[0m\u001b[0my\u001b[0m\u001b[1;33m,\u001b[0m\u001b[0mx\u001b[0m\u001b[1;33m/\u001b[0m\u001b[0my\u001b[0m\u001b[1;33m)\u001b[0m\u001b[1;33m)\u001b[0m\u001b[1;33m;\u001b[0m \u001b[1;32mreturn\u001b[0m \u001b[0mx\u001b[0m\u001b[1;33m/\u001b[0m\u001b[0my\u001b[0m\u001b[1;33m\u001b[0m\u001b[1;33m\u001b[0m\u001b[0m\n\u001b[0;32m     17\u001b[0m \u001b[1;33m\u001b[0m\u001b[0m\n",
      "\u001b[1;31mZeroDivisionError\u001b[0m: Can't divide by zero"
     ]
    }
   ],
   "source": [
    "# input keyword\n",
    "# calling function from function\n",
    "# simple calculator\n",
    "\n",
    "class WrongInputError(ValueError): pass \n",
    "\n",
    "def myAddition(x,y):\n",
    "    print(\"{} + {} = {}\".format(x,y,x+y)); return x+y\n",
    "def mySubstraction(x,y):\n",
    "    print(\"{} - {} = {}\".format(x,y,x-y)); return x-y\n",
    "def myMultiplication(x,y):\n",
    "    print(\"{} * {} = {}\".format(x,y,x*y)); return x*y\n",
    "def myDivision(x,y):\n",
    "    if y==0:\n",
    "        raise ZeroDivisionError(\"Can't divide by zero\")\n",
    "    print(\"{} / {} = {}\".format(x,y,x/y)); return x/y\n",
    "    \n",
    "def myMenu():\n",
    "    print(\"Main Menu\")\n",
    "    print(\"1 > Addition\")\n",
    "    print(\"2 > Substraction\")\n",
    "    print(\"3 > Multiplication\")\n",
    "    print(\"4 > Division\")\n",
    "    choice = int(input(\"Please enter your option number: \"))\n",
    "    if choice>4 or choice<0: raise WrongInputError(\"Input number is wrong\")\n",
    "    return choice\n",
    "def calculation():\n",
    "    ch = myMenu()\n",
    "    num1 = int(input(\"Please enter the first number: \"))\n",
    "    num2 = int(input(\"Plase enter the second number: \"))\n",
    "    if ch ==1:\n",
    "        result = myAddition(num1,num2)\n",
    "    elif ch == 2:\n",
    "        result = mySubtraction(num1,num2)\n",
    "    elif ch == 3:\n",
    "        result = myMultiplication(num1,num2)\n",
    "    elif ch == 4:\n",
    "        result = myDivision(num1,num2)\n",
    "    print(\"So result: \", result)\n",
    "\n",
    "calculation()"
   ]
  },
  {
   "cell_type": "code",
   "execution_count": null,
   "id": "95d7ad99",
   "metadata": {},
   "outputs": [],
   "source": []
  }
 ],
 "metadata": {
  "kernelspec": {
   "display_name": "Python 3",
   "language": "python",
   "name": "python3"
  },
  "language_info": {
   "codemirror_mode": {
    "name": "ipython",
    "version": 3
   },
   "file_extension": ".py",
   "mimetype": "text/x-python",
   "name": "python",
   "nbconvert_exporter": "python",
   "pygments_lexer": "ipython3",
   "version": "3.8.8"
  }
 },
 "nbformat": 4,
 "nbformat_minor": 5
}
