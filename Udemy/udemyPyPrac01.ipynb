{
 "cells": [
  {
   "cell_type": "code",
   "execution_count": null,
   "id": "2c96a752",
   "metadata": {},
   "outputs": [],
   "source": [
    "# Total Chapters Here:\n",
    "#    CHAPTER 4: ARRAY IMPLIMENTATION\n",
    "#    CHAPTER 6: PYTHON KEYWORDS AND IDENTIFIERS\n",
    "#    CHAPTER 7: TUPLES ELEMENT\n",
    "#    CHAPTER 8: PYTHON SETS"
   ]
  },
  {
   "cell_type": "code",
   "execution_count": null,
   "id": "9b8b36ab",
   "metadata": {},
   "outputs": [],
   "source": [
    "# CHAPTER 4: ARRAY IMPLIMENTATION"
   ]
  },
  {
   "cell_type": "code",
   "execution_count": 18,
   "id": "f95aab82",
   "metadata": {},
   "outputs": [
    {
     "name": "stdout",
     "output_type": "stream",
     "text": [
      "[10, 20, 30, 40, 50]\n",
      "10\n",
      "20\n",
      "50\n",
      "40\n"
     ]
    }
   ],
   "source": [
    "# accessing index\n",
    "arr = [10,20,30,40,50]\n",
    "print(arr)\n",
    "print(arr[0])\n",
    "print(arr[1])\n",
    "print(arr[-1])\n",
    "print(arr[-2])"
   ]
  },
  {
   "cell_type": "code",
   "execution_count": 21,
   "id": "16321940",
   "metadata": {},
   "outputs": [
    {
     "name": "stdout",
     "output_type": "stream",
     "text": [
      "['Saju', 'Raju', 'Shanta', 'Shakia', 'Moni']\n",
      "5\n",
      "['Saju', 'Raju', 'Shanta', 'Shakia', 'Moni', 'Anamika']\n"
     ]
    }
   ],
   "source": [
    "# length, append\n",
    "ppl = [\"Saju\",\"Raju\", \"Shanta\", \"Shakia\", \"Moni\"]\n",
    "print(ppl)\n",
    "print(len(ppl))\n",
    "ppl.append(\"Anamika\")\n",
    "print(ppl)"
   ]
  },
  {
   "cell_type": "code",
   "execution_count": 22,
   "id": "6244f780",
   "metadata": {},
   "outputs": [
    {
     "name": "stdout",
     "output_type": "stream",
     "text": [
      "['Saju', 'Raju', 'Shanta', 'Shakia', 'Moni', 'Anamika']\n",
      "['Saju', 'Shanta', 'Shakia', 'Moni', 'Anamika']\n",
      "['Saju', 'Shanta', 'Moni', 'Anamika']\n",
      "['Saju', 'Shanta', 'Moni']\n",
      "['Saju', 'Moni']\n"
     ]
    }
   ],
   "source": [
    "# Removing elements\n",
    "print(ppl)\n",
    "del ppl[1]\n",
    "print(ppl)\n",
    "ppl.remove(\"Shakia\")\n",
    "print(ppl)\n",
    "ppl.pop()\n",
    "print(ppl)\n",
    "ppl.pop(1)\n",
    "print(ppl)"
   ]
  },
  {
   "cell_type": "code",
   "execution_count": 24,
   "id": "776877cf",
   "metadata": {},
   "outputs": [
    {
     "name": "stdout",
     "output_type": "stream",
     "text": [
      "['CSE', 'EEE', 'ECE', 'PHY', 'CHE']\n",
      "['IT', 'EEE', 'ECE', 'PHY', 'CHE']\n",
      "['IT', 'EEE', 'ECE', 'PHY', 'MATH']\n"
     ]
    }
   ],
   "source": [
    "# Modify\n",
    "dept = [\"CSE\", \"EEE\", \"ECE\", \"PHY\", \"CHE\"]\n",
    "print(dept)\n",
    "dept[0] = \"IT\"\n",
    "print(dept)\n",
    "dept[-1] = \"MATH\"\n",
    "print(dept)"
   ]
  },
  {
   "cell_type": "code",
   "execution_count": 25,
   "id": "637a69ce",
   "metadata": {},
   "outputs": [
    {
     "name": "stdout",
     "output_type": "stream",
     "text": [
      "[0, 1, 7, 6, 6, 6]\n",
      "[0, 1, 7, 6, 6, 6, 0, 1, 9, 3, 2]\n"
     ]
    }
   ],
   "source": [
    "# concatenation\n",
    "num = [0,1,7,6,6,6]\n",
    "print(num)\n",
    "num += [0,1,9,3,2]\n",
    "print(num)"
   ]
  },
  {
   "cell_type": "code",
   "execution_count": 28,
   "id": "f4b3a801",
   "metadata": {},
   "outputs": [
    {
     "name": "stdout",
     "output_type": "stream",
     "text": [
      "['Moni']\n",
      "['Moni', 'Moni', 'Moni', 'Moni', 'Moni']\n"
     ]
    }
   ],
   "source": [
    "#repeat\n",
    "rep = [\"Moni\"]\n",
    "print(rep)\n",
    "rep *= 5\n",
    "print(rep)"
   ]
  },
  {
   "cell_type": "code",
   "execution_count": 37,
   "id": "588e068c",
   "metadata": {},
   "outputs": [
    {
     "name": "stdout",
     "output_type": "stream",
     "text": [
      "['lighthouse', 'amily', 'schindler', 'spirited', 'godfather', 'darkcity']\n",
      "['amily', 'schindler', 'spirited']\n",
      "['lighthouse', 'amily', 'schindler']\n",
      "['schindler', 'spirited', 'godfather', 'darkcity']\n",
      "['spirited', 'godfather']\n",
      "['schindler']\n"
     ]
    }
   ],
   "source": [
    "# slicing \n",
    "mov = [\"lighthouse\", \"amily\", \"schindler\", \"spirited\", \"godfather\", \"darkcity\"]\n",
    "print(mov)\n",
    "print(mov[1:4])\n",
    "print(mov[:3])\n",
    "print(mov[-4:])\n",
    "print(mov[-3:-1])\n",
    "print(mov[-4:3])"
   ]
  },
  {
   "cell_type": "code",
   "execution_count": 41,
   "id": "11cea1d0",
   "metadata": {},
   "outputs": [
    {
     "name": "stdout",
     "output_type": "stream",
     "text": [
      "[[2, 4], [4, 6], [8, 10]]\n",
      "[2, 4]\n",
      "10\n"
     ]
    }
   ],
   "source": [
    "# multi dimentional \n",
    "multd = [[2,4], [4,6], [8,10]]\n",
    "print(multd)\n",
    "print(multd[0])\n",
    "print(multd[2][1])"
   ]
  },
  {
   "cell_type": "code",
   "execution_count": null,
   "id": "1ecbf357",
   "metadata": {},
   "outputs": [],
   "source": [
    "# CHAPTER 6: PYTHON KEYWORDS AND IDENTIFIERS"
   ]
  },
  {
   "cell_type": "code",
   "execution_count": 43,
   "id": "0cda70c5",
   "metadata": {},
   "outputs": [
    {
     "name": "stdout",
     "output_type": "stream",
     "text": [
      "False\n",
      "False\n",
      "False\n",
      "True\n"
     ]
    }
   ],
   "source": [
    "# None\n",
    "print(None == 0)\n",
    "print(None == False)\n",
    "print(None == [])\n",
    "print(None == None)"
   ]
  },
  {
   "cell_type": "code",
   "execution_count": 45,
   "id": "5cb35b76",
   "metadata": {},
   "outputs": [
    {
     "name": "stdout",
     "output_type": "stream",
     "text": [
      "3.141592653589793\n",
      "-1.0\n"
     ]
    }
   ],
   "source": [
    "# as\n",
    "import math as myMath\n",
    "print(myMath.pi)\n",
    "print(myMath.cos(myMath.pi))"
   ]
  },
  {
   "cell_type": "code",
   "execution_count": 3,
   "id": "4130f926",
   "metadata": {},
   "outputs": [],
   "source": [
    "# assert\n",
    "assert 5 > 4\n",
    "assert 5 == 5\n",
    "# assert 5 < 5    #AssertionError"
   ]
  },
  {
   "cell_type": "code",
   "execution_count": 4,
   "id": "612cb9c6",
   "metadata": {},
   "outputs": [
    {
     "name": "stdout",
     "output_type": "stream",
     "text": [
      "1\n",
      "2\n",
      "3\n",
      "4\n"
     ]
    }
   ],
   "source": [
    "# break\n",
    "for i in range(1,11):\n",
    "    if i == 5:\n",
    "        break\n",
    "    print(i)"
   ]
  },
  {
   "cell_type": "code",
   "execution_count": 5,
   "id": "624ffa2e",
   "metadata": {},
   "outputs": [
    {
     "name": "stdout",
     "output_type": "stream",
     "text": [
      "1\n",
      "3\n",
      "5\n",
      "7\n"
     ]
    }
   ],
   "source": [
    "# continue\n",
    "for i in range(1,8):\n",
    "    if(i%2 == 0):\n",
    "        continue\n",
    "    print(i)"
   ]
  },
  {
   "cell_type": "code",
   "execution_count": 4,
   "id": "2bb60df6",
   "metadata": {},
   "outputs": [
    {
     "name": "stdout",
     "output_type": "stream",
     "text": [
      "10\n"
     ]
    }
   ],
   "source": [
    "# del\n",
    "a = 10\n",
    "print(a)\n",
    "del a\n",
    "# print(a) #NameError"
   ]
  },
  {
   "cell_type": "code",
   "execution_count": 18,
   "id": "bd82623d",
   "metadata": {},
   "outputs": [
    {
     "name": "stdout",
     "output_type": "stream",
     "text": [
      "Something else\n"
     ]
    }
   ],
   "source": [
    "# if elif else\n",
    "num = 4\n",
    "if num ==1 :\n",
    "    print('One')\n",
    "elif num == 2:\n",
    "    print('Two')\n",
    "else:\n",
    "    print('Something else')"
   ]
  },
  {
   "cell_type": "code",
   "execution_count": 11,
   "id": "6e2e3400",
   "metadata": {},
   "outputs": [
    {
     "name": "stdout",
     "output_type": "stream",
     "text": [
      "Division cannot be performed\n",
      "Execution successful\n",
      "\n",
      "Variable is not defined\n",
      "\n",
      "An exception occurred:  name 'xyz' is not defined\n",
      "\n",
      "division by zero\n"
     ]
    }
   ],
   "source": [
    "# try raise except finally\n",
    "# ERROR HANDLING\n",
    "try:\n",
    "    x = 9\n",
    "    y = 0\n",
    "    z = x/y\n",
    "    if(y == 0):\n",
    "        raise ZeroDivisionError\n",
    "except ZeroDivisionError:\n",
    "        print(\"Division cannot be performed\")\n",
    "finally:\n",
    "        print(\"Execution successful\")\n",
    "\n",
    "# Pring error message\n",
    "print()\n",
    "try:\n",
    "  print(xyz)\n",
    "except NameError:\n",
    "  print(\"Variable is not defined\")\n",
    "except:\n",
    "  print(\"Something else went wrong\")\n",
    "\n",
    "# Pring default error message\n",
    "print()\n",
    "try:\n",
    "  print(xyz)\n",
    "except Exception as e:\n",
    "  print(\"An exception occurred: \", e)\n",
    "\n",
    "# Printing default error message when ZeroDivisionOccur\n",
    "print()\n",
    "try:\n",
    "   x=5  \n",
    "   print(x/0)\n",
    "except Exception as e:\n",
    "  print(e) "
   ]
  },
  {
   "cell_type": "code",
   "execution_count": 38,
   "id": "bcab4807",
   "metadata": {},
   "outputs": [
    {
     "name": "stdout",
     "output_type": "stream",
     "text": [
      "1\n",
      "3\n",
      "5\n",
      "7\n",
      "9\n"
     ]
    }
   ],
   "source": [
    "# for, range, iterator\n",
    "for i in range(1,10,2):\n",
    "    print(i)"
   ]
  },
  {
   "cell_type": "code",
   "execution_count": 14,
   "id": "416a9c79",
   "metadata": {},
   "outputs": [
    {
     "name": "stdout",
     "output_type": "stream",
     "text": [
      "0.15425144988758405\n"
     ]
    }
   ],
   "source": [
    "# from import \n",
    "# import math    \n",
    "from math import cos    # instead of import whole math\n",
    "\n",
    "print(cos(30))"
   ]
  },
  {
   "cell_type": "code",
   "execution_count": 47,
   "id": "208fe94c",
   "metadata": {},
   "outputs": [
    {
     "name": "stdout",
     "output_type": "stream",
     "text": [
      "10\n",
      "5\n",
      "5\n"
     ]
    }
   ],
   "source": [
    "# global\n",
    "globalvar = 10\n",
    "def read1():\n",
    "    print(globalvar)\n",
    "def write1():\n",
    "    global globalvar\n",
    "    globalvar = 5\n",
    "def write2():\n",
    "    globalvar = 15\n",
    "    \n",
    "read1()\n",
    "write1()\n",
    "read1()\n",
    "write2()\n",
    "read1()"
   ]
  },
  {
   "cell_type": "code",
   "execution_count": 51,
   "id": "a9570637",
   "metadata": {},
   "outputs": [
    {
     "name": "stdout",
     "output_type": "stream",
     "text": [
      "True\n",
      "True\n"
     ]
    }
   ],
   "source": [
    "# in, not in\n",
    "a = [1,3,5,7,10,11,13]\n",
    "print(11 in a)\n",
    "\n",
    "print(6 not in a)"
   ]
  },
  {
   "cell_type": "code",
   "execution_count": 53,
   "id": "91d11bf9",
   "metadata": {},
   "outputs": [
    {
     "name": "stdout",
     "output_type": "stream",
     "text": [
      "True\n"
     ]
    },
    {
     "name": "stderr",
     "output_type": "stream",
     "text": [
      "<>:3: SyntaxWarning: \"is\" with a literal. Did you mean \"==\"?\n",
      "<>:3: SyntaxWarning: \"is\" with a literal. Did you mean \"==\"?\n",
      "<ipython-input-53-8a3d04e761c9>:3: SyntaxWarning: \"is\" with a literal. Did you mean \"==\"?\n",
      "  print(num is \"SA\")\n"
     ]
    }
   ],
   "source": [
    "# is\n",
    "num = \"SA\"\n",
    "print(num is \"SA\")"
   ]
  },
  {
   "cell_type": "code",
   "execution_count": 54,
   "id": "c6b61348",
   "metadata": {},
   "outputs": [
    {
     "name": "stdout",
     "output_type": "stream",
     "text": [
      "1 1\n",
      "2 4\n",
      "3 9\n",
      "4 16\n"
     ]
    }
   ],
   "source": [
    "# lambda: annonymous function\n",
    "a = lambda x: x*x\n",
    "\n",
    "for i in range(1,5):\n",
    "    print(i,a(i))"
   ]
  },
  {
   "cell_type": "code",
   "execution_count": 57,
   "id": "ee1fbcf6",
   "metadata": {},
   "outputs": [
    {
     "name": "stdout",
     "output_type": "stream",
     "text": [
      "Inner function:  10\n",
      "Outer function:  10\n"
     ]
    }
   ],
   "source": [
    "# nonlocal\n",
    "def outer_fun():\n",
    "    a = 5\n",
    "    def inner_fun():\n",
    "        nonlocal a\n",
    "        a = 10\n",
    "        print(\"Inner function: \",a)\n",
    "    inner_fun()\n",
    "    print(\"Outer function: \",a)\n",
    "outer_fun()"
   ]
  },
  {
   "cell_type": "code",
   "execution_count": 58,
   "id": "9bdd6428",
   "metadata": {},
   "outputs": [
    {
     "name": "stdout",
     "output_type": "stream",
     "text": [
      "10\n"
     ]
    }
   ],
   "source": [
    "# return\n",
    "def fun_return():\n",
    "    a = 10\n",
    "    return a\n",
    "print(fun_return())"
   ]
  },
  {
   "cell_type": "code",
   "execution_count": 60,
   "id": "ce2973e9",
   "metadata": {},
   "outputs": [
    {
     "name": "stdout",
     "output_type": "stream",
     "text": [
      "5\n",
      "4\n",
      "3\n",
      "2\n",
      "1\n"
     ]
    }
   ],
   "source": [
    "# while\n",
    "i = 5\n",
    "while(i>0):\n",
    "    print(i)\n",
    "    i -= 1"
   ]
  },
  {
   "cell_type": "code",
   "execution_count": 61,
   "id": "a0263edc",
   "metadata": {},
   "outputs": [],
   "source": [
    "# with\n",
    "with open('pyTxt.txt', 'w') as my_file:\n",
    "    my_file.write('Kill')"
   ]
  },
  {
   "cell_type": "code",
   "execution_count": 62,
   "id": "d7e14019",
   "metadata": {},
   "outputs": [
    {
     "name": "stdout",
     "output_type": "stream",
     "text": [
      "1\n",
      "4\n",
      "9\n",
      "16\n"
     ]
    }
   ],
   "source": [
    "# yield\n",
    "def generator():\n",
    "    for i in range(1,5):\n",
    "        yield i*i\n",
    "g = generator()\n",
    "for i in g:\n",
    "    print(i)"
   ]
  },
  {
   "cell_type": "code",
   "execution_count": null,
   "id": "5c9164b6",
   "metadata": {},
   "outputs": [],
   "source": [
    "# CHAPTER 7: TUPLES ELEMENT"
   ]
  },
  {
   "cell_type": "code",
   "execution_count": 2,
   "id": "b3e0f287",
   "metadata": {},
   "outputs": [
    {
     "name": "stdout",
     "output_type": "stream",
     "text": [
      "()\n",
      "(1, 2, 3)\n",
      "(101, 'Sazzad', 200.19, 'CSE')\n"
     ]
    }
   ],
   "source": [
    "# tuple\n",
    "tuple1 = ()\n",
    "print(tuple1)\n",
    "tuple2 = (1,2,3)\n",
    "print(tuple2)\n",
    "# heratogenious/mixed data type\n",
    "tuple3 = (101, \"Sazzad\", 200.19, \"CSE\")\n",
    "print(tuple3)"
   ]
  },
  {
   "cell_type": "code",
   "execution_count": 8,
   "id": "b9d6dff9",
   "metadata": {},
   "outputs": [
    {
     "name": "stdout",
     "output_type": "stream",
     "text": [
      "('points', [1, 4, 3], (7, 8, 5))\n",
      "(101, 'Sazzad', 200.19, 'CSE')\n",
      "101 CSE\n"
     ]
    }
   ],
   "source": [
    "# nested tuple\n",
    "# string, list, tuple\n",
    "tuple4 = (\"points\", [1,4,3], (7,8,5))\n",
    "print(tuple4)\n",
    "# tuple with no pareanthesis\n",
    "tuple5 = 101, \"Sazzad\", 200.19, \"CSE\"\n",
    "print(tuple5)\n",
    "# tuple unpacking\n",
    "emid, name, salary, dept = tuple5\n",
    "print(emid, dept)"
   ]
  },
  {
   "cell_type": "code",
   "execution_count": 17,
   "id": "500466eb",
   "metadata": {},
   "outputs": [
    {
     "name": "stdout",
     "output_type": "stream",
     "text": [
      "('points', [1, 4, 3], (7, 8, 5))\n",
      "points\n",
      "n\n",
      "4\n",
      "5\n",
      "3\n"
     ]
    }
   ],
   "source": [
    "# accessing elements\n",
    "nest_tuple = (\"points\", [1,4,3], (7,8,5))\n",
    "print(nest_tuple)\n",
    "print(nest_tuple[0])\n",
    "print(nest_tuple[0][3])\n",
    "print(nest_tuple[1][1])\n",
    "print(nest_tuple[2][2])\n",
    "print(len(nest_tuple[1]))"
   ]
  },
  {
   "cell_type": "code",
   "execution_count": 18,
   "id": "93077a27",
   "metadata": {},
   "outputs": [
    {
     "name": "stdout",
     "output_type": "stream",
     "text": [
      "('e', 'l')\n",
      "('w', 'e', 'l', 'c')\n",
      "('c', 'o', 'm', 'e')\n",
      "('w', 'e', 'l', 'c', 'o', 'm', 'e')\n"
     ]
    }
   ],
   "source": [
    "# slicing tuple\n",
    "tuple6 = ('w','e','l','c','o','m','e')\n",
    "print(tuple6[1:3])\n",
    "print(tuple6[:-3])\n",
    "print(tuple6[3:])\n",
    "print(tuple6[:])"
   ]
  },
  {
   "cell_type": "code",
   "execution_count": 21,
   "id": "f9ac3bbc",
   "metadata": {},
   "outputs": [
    {
     "name": "stdout",
     "output_type": "stream",
     "text": [
      "('w', 'e', 'l', 'c', 'o', 'm', 'e')\n",
      "('g', 'o', 'o', 'd', 'b', 'y', 'e', '!')\n"
     ]
    }
   ],
   "source": [
    "# tuple elements are immutable\n",
    "tuple7 = ('w','e','l','c','o','m','e')\n",
    "print(tuple7)\n",
    "# tuple7[3] = 'x' #type error\n",
    "# reassign possible\n",
    "tuple7 = ('g','o','o','d','b','y','e','!')\n",
    "print(tuple7)\n"
   ]
  },
  {
   "cell_type": "code",
   "execution_count": 24,
   "id": "83e0107e",
   "metadata": {},
   "outputs": [
    {
     "name": "stdout",
     "output_type": "stream",
     "text": [
      "('w', 'e', 'l', 'c', 'o', 'm', 'e')\n",
      "('again', 'again', 'again', 'again')\n"
     ]
    }
   ],
   "source": [
    "# concatenation of tuple\n",
    "tuple8 = ('w','e','l')\n",
    "tuple9 = ('c','o','m','e')\n",
    "print(tuple8+tuple9)\n",
    "\n",
    "print(('again',) * 4)"
   ]
  },
  {
   "cell_type": "code",
   "execution_count": 37,
   "id": "8f9b4380",
   "metadata": {},
   "outputs": [
    {
     "name": "stdout",
     "output_type": "stream",
     "text": [
      "not exists\n"
     ]
    }
   ],
   "source": [
    "# deletion\n",
    "tuple10 = ('c','o','m','e')\n",
    "# del tuple10[2] #typeError\n",
    "\n",
    "# delete entire tuple\n",
    "del tuple10\n",
    "if'tuple10' in globals():\n",
    "    print('exists')\n",
    "elif'tuple10' in locals():\n",
    "    print('exists')\n",
    "else:\n",
    "    print('not exists')"
   ]
  },
  {
   "cell_type": "code",
   "execution_count": 1,
   "id": "4764a746",
   "metadata": {},
   "outputs": [
    {
     "name": "stdout",
     "output_type": "stream",
     "text": [
      "2\n",
      "3\n"
     ]
    }
   ],
   "source": [
    "# tuple method: coount, index\n",
    "tuple11 = ('w','e','l','c','o','m','e')\n",
    "print(tuple11.count('e'))\n",
    "print(tuple11.index('c'))"
   ]
  },
  {
   "cell_type": "code",
   "execution_count": 47,
   "id": "14b060b5",
   "metadata": {},
   "outputs": [
    {
     "name": "stdout",
     "output_type": "stream",
     "text": [
      "True\n",
      "False\n",
      "False\n",
      "True\n"
     ]
    }
   ],
   "source": [
    "# tuple operation: in, not in\n",
    "tuple12 = ('w','e','l','c','o','m','e')\n",
    "print('c' in tuple12)\n",
    "print('c' not in tuple12)\n",
    "print('a' in tuple12)\n",
    "print('a' not in tuple12)"
   ]
  },
  {
   "cell_type": "code",
   "execution_count": 49,
   "id": "977f790f",
   "metadata": {},
   "outputs": [
    {
     "name": "stdout",
     "output_type": "stream",
     "text": [
      "s\n",
      "a\n",
      "j\n",
      "u\n"
     ]
    }
   ],
   "source": [
    "# tuple iteration'\n",
    "tuple13 = ('s','a','j','u')\n",
    "for letter in tuple13:\n",
    "    print(letter)"
   ]
  },
  {
   "cell_type": "code",
   "execution_count": 54,
   "id": "b3cbeec4",
   "metadata": {},
   "outputs": [
    {
     "name": "stdout",
     "output_type": "stream",
     "text": [
      "(22, 33, 55, 42, 90, 62, 18, 54, 24)\n",
      "max:  90\n",
      "min:  18\n",
      "sorted:  [18, 22, 24, 33, 42, 54, 55, 62, 90]\n",
      "length:  9\n"
     ]
    }
   ],
   "source": [
    "# tuple built in fun: max, min, sorted, length\n",
    "tuple14 = (22,33,55,42,90,62,18,54,24)\n",
    "print(tuple14)\n",
    "print(\"max: \", max(tuple14))\n",
    "print(\"min: \", min(tuple14))\n",
    "print(\"sorted: \", sorted(tuple14))\n",
    "print(\"length: \", len(tuple14))"
   ]
  },
  {
   "cell_type": "code",
   "execution_count": 3,
   "id": "59c10d20",
   "metadata": {},
   "outputs": [],
   "source": [
    "# CHAPTER 8: PYTHON SETS"
   ]
  },
  {
   "cell_type": "code",
   "execution_count": 4,
   "id": "97d21f39",
   "metadata": {},
   "outputs": [
    {
     "name": "stdout",
     "output_type": "stream",
     "text": [
      "{33, 66, 11, 44, 22, 55}\n",
      "{'SHAM3R', 201, (22, 21, 25)}\n",
      "{33, 99, 11, 44, 22}\n"
     ]
    }
   ],
   "source": [
    "# sets in python\n",
    "my_set1 = {11,33,22,55,66,44}\n",
    "print(my_set1)\n",
    "# mixed data type\n",
    "my_set1 = {201, \"SHAM3R\", (22,21,25)}\n",
    "print(my_set1)\n",
    "# when duplicate\n",
    "my_set1 = {11,33,44,44,22,99,22}\n",
    "print(my_set1)"
   ]
  },
  {
   "cell_type": "code",
   "execution_count": 7,
   "id": "f6d938db",
   "metadata": {},
   "outputs": [
    {
     "name": "stdout",
     "output_type": "stream",
     "text": [
      "{1, 2, 3}\n",
      "<class 'set'>\n",
      "[1, 2, 3, 4]\n",
      "<class 'list'>\n"
     ]
    }
   ],
   "source": [
    "# conversion\n",
    "# set from list\n",
    "my_set2 = set([1,2,3,2])\n",
    "print(my_set2)\n",
    "print(type(my_set2))\n",
    "# list from set\n",
    "my_list = list({1,2,3,4})\n",
    "print(my_list)\n",
    "print(type(my_list))"
   ]
  },
  {
   "cell_type": "code",
   "execution_count": 31,
   "id": "fb86546d",
   "metadata": {},
   "outputs": [
    {
     "name": "stdout",
     "output_type": "stream",
     "text": [
      "{33, 66, 11, 44, 22, 55}\n",
      "{33, 66, 11, 44, 77, 22, 55}\n",
      "{33, 66, 99, 11, 44, 77, 22, 55, 88}\n",
      "{33, 66, 99, 100, 11, 44, 77, 110, 20, 22, 55, 88}\n"
     ]
    }
   ],
   "source": [
    "# indexing, add, update, sorted\n",
    "# set do not support indexing\n",
    "my_set3 = {11,33,22,55,66,44}\n",
    "print(my_set3)\n",
    "# my_set3[3]    #TypeError\n",
    "# add an item\n",
    "my_set3.add(77)\n",
    "print(my_set3)\n",
    "# add multiple item\n",
    "my_set3.update([99,88,77])\n",
    "print(my_set3)\n",
    "# add list and set\n",
    "my_set3.update([99,100], {100,110,20})\n",
    "print(my_set3)"
   ]
  },
  {
   "cell_type": "code",
   "execution_count": 19,
   "id": "93bea11b",
   "metadata": {},
   "outputs": [
    {
     "name": "stdout",
     "output_type": "stream",
     "text": [
      "{33, 66, 11, 44, 22, 55}\n",
      "{33, 66, 11, 44, 55}\n",
      "{33, 66, 11, 44}\n",
      "{66, 11, 44}\n",
      "set()\n"
     ]
    }
   ],
   "source": [
    "# removing items\n",
    "# discard, remove, pop, clear\n",
    "my_set4 = {11,33,22,55,66,44}\n",
    "my_set4.discard(4)   # no Error\n",
    "print(my_set4)\n",
    "# my_set4.remove(4)    # KeyError\n",
    "my_set4.discard(22)\n",
    "print(my_set4)\n",
    "my_set4.remove(55)\n",
    "print(my_set4)\n",
    "my_set4.pop()\n",
    "print(my_set4)\n",
    "my_set4.clear()\n",
    "print(my_set4)"
   ]
  },
  {
   "cell_type": "code",
   "execution_count": 26,
   "id": "0f81d3a1",
   "metadata": {},
   "outputs": [
    {
     "name": "stdout",
     "output_type": "stream",
     "text": [
      "{33, 66, 44, 22, 55, 'b', 'a'}\n",
      "{33, 66, 44, 22, 55, 'b', 'a'}\n",
      "{66, 44}\n",
      "{66, 44}\n",
      "{33, 22, 55}\n",
      "{33, 22, 55}\n",
      "{33, 55, 'b', 22, 'a'}\n",
      "{33, 55, 'b', 22, 'a'}\n"
     ]
    }
   ],
   "source": [
    "# union, intersection, difference, symmetric difference\n",
    "# union\n",
    "my_set5 = {33,22,55,66,44}\n",
    "my_set6 = {'a','b',66,44}\n",
    "print(my_set5 | my_set6)\n",
    "# or\n",
    "print(my_set5.union(my_set6))\n",
    "# intersection\n",
    "print(my_set5 & my_set6)\n",
    "# or\n",
    "print(my_set5.intersection(my_set6))\n",
    "# difference\n",
    "print(my_set5 - my_set6)\n",
    "# or\n",
    "print(my_set5.difference(my_set6))\n",
    "# symmetric difference\n",
    "print(my_set5 ^ my_set6)\n",
    "# or\n",
    "print(my_set5.symmetric_difference(my_set6))"
   ]
  },
  {
   "cell_type": "code",
   "execution_count": 27,
   "id": "bea40494",
   "metadata": {},
   "outputs": [
    {
     "name": "stdout",
     "output_type": "stream",
     "text": [
      "True\n",
      "False\n"
     ]
    }
   ],
   "source": [
    "# check membership\n",
    "my_set7 = {33,22,55,77,44}\n",
    "print(22 in my_set7)\n",
    "print(22 not in my_set7)"
   ]
  },
  {
   "cell_type": "code",
   "execution_count": 28,
   "id": "6b077694",
   "metadata": {},
   "outputs": [
    {
     "name": "stdout",
     "output_type": "stream",
     "text": [
      "33\n",
      "44\n",
      "77\n",
      "22\n",
      "55\n"
     ]
    }
   ],
   "source": [
    "# set iteration\n",
    "my_set8 = {33,22,55,77,44}\n",
    "for numbers in my_set8:\n",
    "    print(numbers)"
   ]
  },
  {
   "cell_type": "code",
   "execution_count": 30,
   "id": "c008932d",
   "metadata": {},
   "outputs": [
    {
     "name": "stdout",
     "output_type": "stream",
     "text": [
      "{33, 44, 77, 22, 55}\n",
      "5\n",
      "77\n",
      "22\n",
      "[22, 33, 44, 55, 77]\n",
      "<class 'set'>\n",
      "<class 'list'>\n"
     ]
    }
   ],
   "source": [
    "# build in function\n",
    "my_set9 = {33,22,55,77,44}\n",
    "print(my_set9)\n",
    "print(len(my_set9))\n",
    "print(max(my_set9))\n",
    "print(min(my_set9))\n",
    "print(sorted(my_set9))\n",
    "print(type(my_set9))\n",
    "print(type(sorted(my_set9)))"
   ]
  },
  {
   "cell_type": "code",
   "execution_count": 36,
   "id": "9d130774",
   "metadata": {},
   "outputs": [
    {
     "name": "stdout",
     "output_type": "stream",
     "text": [
      "frozenset({33, 44, 77, 22, 55})\n",
      "frozenset({99, 77, 111, 22, 88})\n",
      "frozenset({33, 44, 55})\n",
      "frozenset({33, 99, 44, 77, 111, 22, 55, 88})\n",
      "frozenset({77, 22})\n",
      "frozenset({33, 99, 55, 88, 44, 111})\n"
     ]
    }
   ],
   "source": [
    "# frozenset\n",
    "my_set10 = frozenset([33,22,55,77,44])\n",
    "my_set11 = frozenset([22,88,99,22,77,111])\n",
    "print(my_set10)\n",
    "print(my_set11)\n",
    "print(my_set10.difference(my_set11))\n",
    "print(my_set10.union(my_set11))\n",
    "print(my_set10.intersection(my_set11))\n",
    "print(my_set10.symmetric_difference(my_set11))\n",
    "# find differences between set and frozenset"
   ]
  },
  {
   "cell_type": "code",
   "execution_count": null,
   "id": "9d3fc028",
   "metadata": {},
   "outputs": [],
   "source": []
  }
 ],
 "metadata": {
  "kernelspec": {
   "display_name": "Python 3",
   "language": "python",
   "name": "python3"
  },
  "language_info": {
   "codemirror_mode": {
    "name": "ipython",
    "version": 3
   },
   "file_extension": ".py",
   "mimetype": "text/x-python",
   "name": "python",
   "nbconvert_exporter": "python",
   "pygments_lexer": "ipython3",
   "version": "3.8.8"
  }
 },
 "nbformat": 4,
 "nbformat_minor": 5
}
